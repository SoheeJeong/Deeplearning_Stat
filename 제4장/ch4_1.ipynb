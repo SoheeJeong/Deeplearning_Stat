{
 "cells": [
  {
   "cell_type": "code",
   "execution_count": 1,
   "metadata": {},
   "outputs": [
    {
     "name": "stdout",
     "output_type": "stream",
     "text": [
      "tf.Tensor(\n",
      "[[1 2 3]\n",
      " [4 5 6]], shape=(2, 3), dtype=int32)\n",
      "(2, 3)\n",
      "<dtype: 'int32'>\n"
     ]
    }
   ],
   "source": [
    "import tensorflow as tf\n",
    "a=tf.constant([[1,2,3],[4,5,6]])\n",
    "print(a)\n",
    "print(a.shape)\n",
    "print(a.dtype)"
   ]
  },
  {
   "cell_type": "code",
   "execution_count": 3,
   "metadata": {},
   "outputs": [
    {
     "data": {
      "text/plain": [
       "<tf.Tensor: id=4, shape=(2, 2), dtype=int32, numpy=\n",
       "array([[1, 2],\n",
       "       [4, 5]])>"
      ]
     },
     "execution_count": 3,
     "metadata": {},
     "output_type": "execute_result"
    }
   ],
   "source": [
    "a[:,:2]"
   ]
  },
  {
   "cell_type": "code",
   "execution_count": 4,
   "metadata": {},
   "outputs": [
    {
     "name": "stdout",
     "output_type": "stream",
     "text": [
      "tf.Tensor([2 5], shape=(2,), dtype=int32)\n",
      "tf.Tensor(\n",
      "[[2]\n",
      " [5]], shape=(2, 1), dtype=int32)\n"
     ]
    }
   ],
   "source": [
    "a_1=a[...,1]\n",
    "a_2=a[...,1,tf.newaxis]\n",
    "print(a_1)\n",
    "print(a_2)"
   ]
  },
  {
   "cell_type": "code",
   "execution_count": 5,
   "metadata": {},
   "outputs": [
    {
     "name": "stdout",
     "output_type": "stream",
     "text": [
      "tf.Tensor(\n",
      "[[101 102 103]\n",
      " [104 105 106]], shape=(2, 3), dtype=int32)\n",
      "tf.Tensor(\n",
      "[[ 1  4  9]\n",
      " [16 25 36]], shape=(2, 3), dtype=int32)\n"
     ]
    }
   ],
   "source": [
    "b_0=a+100\n",
    "b_1=tf.square(a)\n",
    "print(b_0)\n",
    "print(b_1)"
   ]
  },
  {
   "cell_type": "code",
   "execution_count": 6,
   "metadata": {},
   "outputs": [
    {
     "data": {
      "text/plain": [
       "array([[1, 2, 3],\n",
       "       [4, 5, 6]])"
      ]
     },
     "execution_count": 6,
     "metadata": {},
     "output_type": "execute_result"
    }
   ],
   "source": [
    "a.numpy()"
   ]
  },
  {
   "cell_type": "code",
   "execution_count": 7,
   "metadata": {},
   "outputs": [],
   "source": [
    "import numpy as np\n",
    "c=np.array([[1,2],[3,4],[5,6]])\n",
    "d_1=tf.transpose(c)\n",
    "d_2=c.T"
   ]
  },
  {
   "cell_type": "code",
   "execution_count": 8,
   "metadata": {},
   "outputs": [
    {
     "name": "stdout",
     "output_type": "stream",
     "text": [
      "[[1 2]\n",
      " [3 4]\n",
      " [5 6]]\n",
      "tf.Tensor(\n",
      "[[1 3 5]\n",
      " [2 4 6]], shape=(2, 3), dtype=int32)\n",
      "[[1 3 5]\n",
      " [2 4 6]]\n"
     ]
    }
   ],
   "source": [
    "print(c)\n",
    "print(d_1)\n",
    "print(d_2)"
   ]
  },
  {
   "cell_type": "code",
   "execution_count": 10,
   "metadata": {},
   "outputs": [
    {
     "data": {
      "text/plain": [
       "<tf.Tensor: id=22, shape=(), dtype=float32, numpy=101.0>"
      ]
     },
     "execution_count": 10,
     "metadata": {},
     "output_type": "execute_result"
    }
   ],
   "source": [
    "t1=1\n",
    "t2=100.\n",
    "tf.cast(t1,tf.float32)+t2"
   ]
  },
  {
   "cell_type": "code",
   "execution_count": 11,
   "metadata": {},
   "outputs": [
    {
     "name": "stdout",
     "output_type": "stream",
     "text": [
      "<tf.Variable 'Variable:0' shape=(2, 3) dtype=float32, numpy=\n",
      "array([[1., 2., 3.],\n",
      "       [4., 5., 6.]], dtype=float32)>\n"
     ]
    }
   ],
   "source": [
    "k=tf.Variable([[1.,2,3],[4,5,6]])\n",
    "print(k)"
   ]
  },
  {
   "cell_type": "code",
   "execution_count": 12,
   "metadata": {},
   "outputs": [
    {
     "data": {
      "text/plain": [
       "<tf.Tensor: id=32, shape=(2, 3), dtype=int32, numpy=\n",
       "array([[1, 2, 3],\n",
       "       [4, 5, 6]])>"
      ]
     },
     "execution_count": 12,
     "metadata": {},
     "output_type": "execute_result"
    }
   ],
   "source": [
    "tf.constant([[1,2,3],[4,5,6]])"
   ]
  },
  {
   "cell_type": "code",
   "execution_count": 13,
   "metadata": {},
   "outputs": [
    {
     "data": {
      "text/plain": [
       "<tf.Variable 'UnreadVariable' shape=(2, 3) dtype=float32, numpy=\n",
       "array([[ 1.,  4.,  9.],\n",
       "       [16., 25., 36.]], dtype=float32)>"
      ]
     },
     "execution_count": 13,
     "metadata": {},
     "output_type": "execute_result"
    }
   ],
   "source": [
    "k.assign(k**2)"
   ]
  },
  {
   "cell_type": "code",
   "execution_count": 14,
   "metadata": {},
   "outputs": [
    {
     "data": {
      "text/plain": [
       "<tf.Variable 'UnreadVariable' shape=(2, 3) dtype=float32, numpy=\n",
       "array([[  1., 100.,   9.],\n",
       "       [ 16.,  25.,  36.]], dtype=float32)>"
      ]
     },
     "execution_count": 14,
     "metadata": {},
     "output_type": "execute_result"
    }
   ],
   "source": [
    "k[0,1].assign(100)"
   ]
  },
  {
   "cell_type": "code",
   "execution_count": 15,
   "metadata": {},
   "outputs": [
    {
     "data": {
      "text/plain": [
       "<tf.Variable 'UnreadVariable' shape=(2, 3) dtype=float32, numpy=\n",
       "array([[  1., 100.,   0.],\n",
       "       [ 16.,  25.,   0.]], dtype=float32)>"
      ]
     },
     "execution_count": 15,
     "metadata": {},
     "output_type": "execute_result"
    }
   ],
   "source": [
    "k[:,2].assign([0,0])"
   ]
  },
  {
   "cell_type": "code",
   "execution_count": 16,
   "metadata": {
    "scrolled": true
   },
   "outputs": [
    {
     "data": {
      "text/plain": [
       "<tf.Variable 'UnreadVariable' shape=(2, 3) dtype=float32, numpy=\n",
       "array([[999., 100.,   0.],\n",
       "       [999.,  25.,   0.]], dtype=float32)>"
      ]
     },
     "execution_count": 16,
     "metadata": {},
     "output_type": "execute_result"
    }
   ],
   "source": [
    "k.scatter_nd_update(indices=[[0,0],[1,0]],updates=[999,999])"
   ]
  },
  {
   "cell_type": "markdown",
   "metadata": {},
   "source": [
    "# 3/25"
   ]
  },
  {
   "cell_type": "code",
   "execution_count": 2,
   "metadata": {
    "scrolled": true
   },
   "outputs": [
    {
     "name": "stdout",
     "output_type": "stream",
     "text": [
      "Downloading data from https://storage.googleapis.com/tensorflow/tf-keras-datasets/mnist.npz\n",
      "11493376/11490434 [==============================] - 15s 1us/step\n",
      "(60000, 28, 28)\n",
      "(10000, 28, 28)\n",
      "(60000,)\n"
     ]
    }
   ],
   "source": [
    "import numpy as np\n",
    "import tensorflow as tf\n",
    "from tensorflow.keras.datasets import mnist\n",
    "import matplotlib.pyplot as plt\n",
    "\n",
    "#데이터 불러오기\n",
    "(x_train,y_train),(x_test,y_test)=mnist.load_data()\n",
    "print(x_train.shape)\n",
    "print(x_test.shape)\n",
    "print(y_train.shape)"
   ]
  },
  {
   "cell_type": "markdown",
   "metadata": {},
   "source": [
    "x_train: 3d tensor\n",
    "y 값: 1d tensor => CNN,MLP 못씀. RNN은 가능."
   ]
  },
  {
   "cell_type": "code",
   "execution_count": 4,
   "metadata": {
    "scrolled": true
   },
   "outputs": [
    {
     "data": {
      "text/plain": [
       "'2.4.3'"
      ]
     },
     "execution_count": 4,
     "metadata": {},
     "output_type": "execute_result"
    }
   ],
   "source": [
    "import keras\n",
    "keras.__version__"
   ]
  },
  {
   "cell_type": "markdown",
   "metadata": {},
   "source": [
    "y_train, y_test 데이터 분포 살펴보기 (dictionary로)"
   ]
  },
  {
   "cell_type": "code",
   "execution_count": 19,
   "metadata": {},
   "outputs": [
    {
     "name": "stdout",
     "output_type": "stream",
     "text": [
      "Train labels: {0: 5923, 1: 6742, 2: 5958, 3: 6131, 4: 5842, 5: 5421, 6: 5918, 7: 6265, 8: 5851, 9: 5949}\n",
      "Train labels: {0: 980, 1: 1135, 2: 1032, 3: 1010, 4: 982, 5: 892, 6: 958, 7: 1028, 8: 974, 9: 1009}\n"
     ]
    }
   ],
   "source": [
    "unique,counts=np.unique(y_train,return_counts=True)\n",
    "print('Train labels:',dict(zip(unique,counts)))\n",
    "unique,counts=np.unique(y_test,return_counts=True)\n",
    "print('Train labels:',dict(zip(unique,counts)))"
   ]
  },
  {
   "cell_type": "code",
   "execution_count": 20,
   "metadata": {},
   "outputs": [
    {
     "data": {
      "image/png": "[encoded data removed]",
      "text/plain": [
       "<Figure size 144x144 with 4 Axes>"
      ]
     },
     "metadata": {
      "needs_background": "light"
     },
     "output_type": "display_data"
    }
   ],
   "source": [
    "# 4개의 임의 표본 추출하기\n",
    "indices=np.random.randint(0,x_train.shape[0],size=4)\n",
    "images=x_train[indices]\n",
    "labels=y_train[indices]\n",
    "# 4개 표본 그림그리기\n",
    "plt.figure(figsize=(2,2))\n",
    "for i in range(len(indices)):\n",
    "    plt.subplot(2,2,i+1)\n",
    "    image=images[i]\n",
    "    plt.imshow(image, cmap='gray')\n",
    "    plt.grid('off')\n",
    "plt.show()"
   ]
  },
  {
   "cell_type": "code",
   "execution_count": 21,
   "metadata": {
    "scrolled": true
   },
   "outputs": [
    {
     "name": "stdout",
     "output_type": "stream",
     "text": [
      "(60000, 10)\n"
     ]
    }
   ],
   "source": [
    "# one-hot coding을 위한 라이브러리 불러오기 (to_categorical)\n",
    "from tensorflow.keras.utils import to_categorical, plot_model\n",
    "num_features=784  #x_train.shape[1]*x_train.shape[2]\n",
    "x_train=x_train.reshape(-1,num_features).astype('float32')# 또는 np.reshape(x_train, (-1,num_features)).astype('float32')\n",
    "x_test=x_test.reshape(-1,num_features).astype('float32')\n",
    "\n",
    "#reshape안에 '-1'대신 x_train.shape[0]을 써도 되지만 '-1'을 해줌으로써 해당 axis의 값을 스스로 계산하게 한다.\n",
    "#예를 들어 x의 shape이 (100,200,3)일 때 x.reshape(-1,100)으로 하면 x의 shape은 (600,100)으로 된다.\n",
    "\n",
    "x_train=x_train/255.\n",
    "x_test=x_test/255.\n",
    "\n",
    "# 10개의 범주형 자료를 one-hot 벡터로 바꿔주기\n",
    "y_train=to_categorical(y_train)\n",
    "y_test=to_categorical(y_test)\n",
    "num_classes=y_train.shape[1]\n",
    "print(y_train.shape)"
   ]
  },
  {
   "cell_type": "markdown",
   "metadata": {},
   "source": [
    "MLP 돌리기 위해 x 의 shape을 2D tensor로 reshape함\n",
    "* reshape 시 60000 대신 -1 을 사용함.\n",
    "* float로 바꾸고,\n",
    "* 255로 나눠서 0 과 1 사이의 범위로 만듦(standarization) - 특정 범위에 몰려있는 현상을 없애기 위해. 미분 잘되게 하기 위해.\n",
    "* 1.0 은 백색, 0.0 은 흑색으로 인식하게 됨.\n",
    "\n",
    "y 의 shape이 2D tensor로 바뀜"
   ]
  },
  {
   "cell_type": "markdown",
   "metadata": {},
   "source": [
    "# MLP 모형 Setup\n",
    "sample 을 넣지 않은 상태."
   ]
  },
  {
   "cell_type": "markdown",
   "metadata": {},
   "source": [
    "## Sequential API\n",
    "\n",
    "======================================\n",
    "* 첫 글자 대문자 : 이미 짜여있는 class 불러오는것임 (Sequential,Dense,Activation,Dropout)\n",
    "* Spyder 로 class를 만들고 (.py형식, 맞춤형으로) 얼마든지 import할 수 있다.\n",
    "\n",
    "* Sequential API 는  \"차례대로\" 간다.\n",
    "\n",
    "======================================\n",
    "\n",
    "num_features=784 (입력층 dimension)\n",
    "* 필요한 모수 개수 = 785 개의 모수(784+bias1개) * 256개의 node수 = 200960\n",
    "* 256개 각각의 노드가 activation function relu를 통과.\n",
    "\n",
    "======================================\n",
    "\n",
    "model.add(Dropout(0.45))\n",
    "* 노드 중 45%를 random 으로 0으로 만듦\n",
    "* 매 iteration 마다 0이 되는 노드는 random 함\n",
    "* 따라서 각 iteration 마다 모형이 다 다름. \n",
    "* 이 때문에 서로 다른 모형들을 적합시키는 효과가 나타남. => ensemble learning 기법임. (서로 다른 모형을 평균내는게 앙상블 러닝임. robustness. 좋은것임. 어느 한쪽 모형에 depend 하지 않고, **overfitting 방지**에 매우 좋음)\n",
    "\n",
    "param# : 257 * 256 = 65792 개 \n",
    "\n",
    "======================================\n",
    "\n",
    "num_classes = 10개의 class, softmax 를 사용 \n",
    "=> categorical crossentropy 로 연결됨.\n",
    "\n",
    "실제 모수는 2570개 (?)"
   ]
  },
  {
   "cell_type": "code",
   "execution_count": 22,
   "metadata": {
    "scrolled": true
   },
   "outputs": [
    {
     "name": "stdout",
     "output_type": "stream",
     "text": [
      "Model: \"sequential\"\n",
      "_________________________________________________________________\n",
      "Layer (type)                 Output Shape              Param #   \n",
      "=================================================================\n",
      "dense (Dense)                (None, 256)               200960    \n",
      "_________________________________________________________________\n",
      "activation (Activation)      (None, 256)               0         \n",
      "_________________________________________________________________\n",
      "dropout (Dropout)            (None, 256)               0         \n",
      "_________________________________________________________________\n",
      "dense_1 (Dense)              (None, 256)               65792     \n",
      "_________________________________________________________________\n",
      "dense_2 (Dense)              (None, 10)                2570      \n",
      "=================================================================\n",
      "Total params: 269,322\n",
      "Trainable params: 269,322\n",
      "Non-trainable params: 0\n",
      "_________________________________________________________________\n"
     ]
    },
    {
     "data": {
      "image/png": "[encoded data removed]",
      "text/plain": [
       "<IPython.core.display.Image object>"
      ]
     },
     "execution_count": 22,
     "metadata": {},
     "output_type": "execute_result"
    }
   ],
   "source": [
    "from tensorflow.keras.models import Sequential\n",
    "from tensorflow.keras.layers import Dense, Activation, Dropout\n",
    "\n",
    "#2개의 은닉층과 1개의 출력층으로 구성된 MLP모형\n",
    "model=Sequential()\n",
    "model.add(Dense(256,input_dim=num_features)) #input은 1D tensor\n",
    "model.add(Activation('relu'))\n",
    "# 또는 model.add(Dense(256, input_dim=num_features,activation='relu'))로 Dense와 Activation을 함께 쓸 수 있음\n",
    "model.add(Dropout(0.45))\n",
    "model.add(Dense(256, activation='relu'))\n",
    "model.add(Dense(num_classes,activation='softmax'))\n",
    "model.summary()\n",
    "plot_model(model,to_file='C:/Users/yspark/Desktop/딥러닝교재/제 4장 TensorFlow 2.x-Keras/ch4_1.png', show_shapes=True)"
   ]
  },
  {
   "cell_type": "markdown",
   "metadata": {},
   "source": [
    "train data 중 10000개를 validation data 로 할당."
   ]
  },
  {
   "cell_type": "code",
   "execution_count": 23,
   "metadata": {
    "scrolled": true
   },
   "outputs": [
    {
     "name": "stdout",
     "output_type": "stream",
     "text": [
      "(50000, 784)\n",
      "(50000, 10)\n"
     ]
    }
   ],
   "source": [
    "x_val=x_train[:10000]\n",
    "partial_x_train=x_train[10000:]\n",
    "y_val=y_train[:10000]\n",
    "partial_y_train=y_train[10000:]\n",
    "print(partial_x_train.shape)\n",
    "print(partial_y_train.shape)"
   ]
  },
  {
   "cell_type": "markdown",
   "metadata": {},
   "source": [
    "* optimization function 을 선택. adam 으로 선택함.\n",
    "\n",
    "* 모델을 데이터에 적합 (fit) 함.\n",
    "    * seed number 가 다르기 때문에 돌릴 때마다 accuracy 다름. parameter 가 random 으로 할당되어 시작되기 때문에."
   ]
  },
  {
   "cell_type": "code",
   "execution_count": 24,
   "metadata": {
    "scrolled": true
   },
   "outputs": [
    {
     "name": "stdout",
     "output_type": "stream",
     "text": [
      "Train on 50000 samples, validate on 10000 samples\n",
      "Epoch 1/10\n",
      "50000/50000 [==============================] - 5s 100us/sample - loss: 0.3345 - accuracy: 0.8999 - val_loss: 0.1398 - val_accuracy: 0.9561\n",
      "Epoch 2/10\n",
      "50000/50000 [==============================] - 4s 86us/sample - loss: 0.1682 - accuracy: 0.9482 - val_loss: 0.1087 - val_accuracy: 0.9673\n",
      "Epoch 3/10\n",
      "50000/50000 [==============================] - 5s 91us/sample - loss: 0.1295 - accuracy: 0.9591 - val_loss: 0.1022 - val_accuracy: 0.9707\n",
      "Epoch 4/10\n",
      "50000/50000 [==============================] - 5s 94us/sample - loss: 0.1137 - accuracy: 0.9637 - val_loss: 0.0881 - val_accuracy: 0.9736\n",
      "Epoch 5/10\n",
      "50000/50000 [==============================] - 4s 88us/sample - loss: 0.0972 - accuracy: 0.9689 - val_loss: 0.0886 - val_accuracy: 0.9731\n",
      "Epoch 6/10\n",
      "50000/50000 [==============================] - 4s 88us/sample - loss: 0.0908 - accuracy: 0.9713 - val_loss: 0.0806 - val_accuracy: 0.9756\n",
      "Epoch 7/10\n",
      "50000/50000 [==============================] - 5s 94us/sample - loss: 0.0810 - accuracy: 0.9738 - val_loss: 0.0763 - val_accuracy: 0.9770\n",
      "Epoch 8/10\n",
      "50000/50000 [==============================] - 4s 88us/sample - loss: 0.0773 - accuracy: 0.9754 - val_loss: 0.0787 - val_accuracy: 0.9783\n",
      "Epoch 9/10\n",
      "50000/50000 [==============================] - 5s 91us/sample - loss: 0.0696 - accuracy: 0.9780 - val_loss: 0.0715 - val_accuracy: 0.9789\n",
      "Epoch 10/10\n",
      "50000/50000 [==============================] - 5s 95us/sample - loss: 0.0678 - accuracy: 0.9780 - val_loss: 0.0744 - val_accuracy: 0.9788\n"
     ]
    },
    {
     "data": {
      "text/plain": [
       "dict_keys(['loss', 'accuracy', 'val_loss', 'val_accuracy'])"
      ]
     },
     "execution_count": 24,
     "metadata": {},
     "output_type": "execute_result"
    }
   ],
   "source": [
    "model.compile(loss='categorical_crossentropy',optimizer='adam', metrics=['accuracy'])\n",
    "history=model.fit(partial_x_train, partial_y_train, epochs=10, batch_size=64,validation_data=(x_val,y_val))\n",
    "history_out=history.history\n",
    "history_out.keys()"
   ]
  },
  {
   "cell_type": "markdown",
   "metadata": {},
   "source": [
    "history 를 불러서 그래프를 그려봄."
   ]
  },
  {
   "cell_type": "code",
   "execution_count": 8,
   "metadata": {},
   "outputs": [
    {
     "data": {
      "image/png": "[encoded data removed]",
      "text/plain": [
       "<Figure size 432x288 with 1 Axes>"
      ]
     },
     "metadata": {
      "needs_background": "light"
     },
     "output_type": "display_data"
    }
   ],
   "source": [
    "import matplotlib.pyplot as plt\n",
    "\n",
    "loss=history_out['loss']\n",
    "loss_val=history_out['val_loss']\n",
    "accuracy=history_out['accuracy']\n",
    "accuracy_val=history_out['val_accuracy']\n",
    "plt.plot(loss,'bo',label='training loss')\n",
    "plt.plot( loss_val,'b', label='validation loss' )\n",
    "plt.title('Training and validation losss')\n",
    "plt.xlabel('epochs')\n",
    "plt.ylabel('loss')\n",
    "plt.legend()\n",
    "plt.show()"
   ]
  },
  {
   "cell_type": "code",
   "execution_count": 9,
   "metadata": {},
   "outputs": [
    {
     "data": {
      "image/png": "[encoded data removed]",
      "text/plain": [
       "<Figure size 432x288 with 1 Axes>"
      ]
     },
     "metadata": {
      "needs_background": "light"
     },
     "output_type": "display_data"
    }
   ],
   "source": [
    "plt.clf()\n",
    "plt.plot(accuracy,'bo',label='training loss')\n",
    "plt.plot(accuracy_val,'b', label='validation loss' )\n",
    "plt.title('Training and validation accuracy')\n",
    "plt.xlabel('epochs')\n",
    "plt.ylabel('accuracy')\n",
    "plt.legend()\n",
    "plt.show()"
   ]
  },
  {
   "cell_type": "code",
   "execution_count": 10,
   "metadata": {
    "scrolled": true
   },
   "outputs": [
    {
     "name": "stdout",
     "output_type": "stream",
     "text": [
      "Epoch 1/30\n",
      "60000/60000 [==============================] - 2s 30us/step - loss: 0.0744 - accuracy: 0.9767\n",
      "Epoch 2/30\n",
      "60000/60000 [==============================] - 2s 28us/step - loss: 0.0679 - accuracy: 0.9786\n",
      "Epoch 3/30\n",
      "60000/60000 [==============================] - 2s 28us/step - loss: 0.0613 - accuracy: 0.9804\n",
      "Epoch 4/30\n",
      "60000/60000 [==============================] - 2s 27us/step - loss: 0.0584 - accuracy: 0.9806\n",
      "Epoch 5/30\n",
      "60000/60000 [==============================] - 2s 28us/step - loss: 0.0549 - accuracy: 0.9822\n",
      "Epoch 6/30\n",
      "60000/60000 [==============================] - 2s 28us/step - loss: 0.0536 - accuracy: 0.9820\n",
      "Epoch 7/30\n",
      "60000/60000 [==============================] - 2s 30us/step - loss: 0.0517 - accuracy: 0.9829\n",
      "Epoch 8/30\n",
      "60000/60000 [==============================] - 2s 32us/step - loss: 0.0507 - accuracy: 0.9836\n",
      "Epoch 9/30\n",
      "60000/60000 [==============================] - 2s 31us/step - loss: 0.0453 - accuracy: 0.9854\n",
      "Epoch 10/30\n",
      "60000/60000 [==============================] - 2s 30us/step - loss: 0.0466 - accuracy: 0.9844\n",
      "Epoch 11/30\n",
      "60000/60000 [==============================] - 2s 28us/step - loss: 0.0479 - accuracy: 0.9842\n",
      "Epoch 12/30\n",
      "60000/60000 [==============================] - 2s 28us/step - loss: 0.0452 - accuracy: 0.9853\n",
      "Epoch 13/30\n",
      "60000/60000 [==============================] - 2s 26us/step - loss: 0.0398 - accuracy: 0.9871\n",
      "Epoch 14/30\n",
      "60000/60000 [==============================] - 2s 26us/step - loss: 0.0414 - accuracy: 0.9859\n",
      "Epoch 15/30\n",
      "60000/60000 [==============================] - 2s 27us/step - loss: 0.0401 - accuracy: 0.9863\n",
      "Epoch 16/30\n",
      "60000/60000 [==============================] - 2s 28us/step - loss: 0.0405 - accuracy: 0.9871\n",
      "Epoch 17/30\n",
      "60000/60000 [==============================] - 2s 27us/step - loss: 0.0377 - accuracy: 0.9879\n",
      "Epoch 18/30\n",
      "60000/60000 [==============================] - 2s 27us/step - loss: 0.0378 - accuracy: 0.9877\n",
      "Epoch 19/30\n",
      "60000/60000 [==============================] - 2s 27us/step - loss: 0.0379 - accuracy: 0.9871\n",
      "Epoch 20/30\n",
      "60000/60000 [==============================] - 2s 26us/step - loss: 0.0375 - accuracy: 0.9882\n",
      "Epoch 21/30\n",
      "60000/60000 [==============================] - 2s 28us/step - loss: 0.0366 - accuracy: 0.9880\n",
      "Epoch 22/30\n",
      "60000/60000 [==============================] - 2s 27us/step - loss: 0.0348 - accuracy: 0.9886\n",
      "Epoch 23/30\n",
      "60000/60000 [==============================] - 2s 26us/step - loss: 0.0349 - accuracy: 0.9886\n",
      "Epoch 24/30\n",
      "60000/60000 [==============================] - 2s 26us/step - loss: 0.0348 - accuracy: 0.9883\n",
      "Epoch 25/30\n",
      "60000/60000 [==============================] - 2s 26us/step - loss: 0.0332 - accuracy: 0.9890\n",
      "Epoch 26/30\n",
      "60000/60000 [==============================] - 2s 26us/step - loss: 0.0330 - accuracy: 0.9894\n",
      "Epoch 27/30\n",
      "60000/60000 [==============================] - 2s 29us/step - loss: 0.0332 - accuracy: 0.9891\n",
      "Epoch 28/30\n",
      "60000/60000 [==============================] - 2s 29us/step - loss: 0.0317 - accuracy: 0.9899\n",
      "Epoch 29/30\n",
      "60000/60000 [==============================] - 2s 26us/step - loss: 0.0307 - accuracy: 0.9899\n",
      "Epoch 30/30\n",
      "60000/60000 [==============================] - 2s 26us/step - loss: 0.0312 - accuracy: 0.9896\n"
     ]
    },
    {
     "data": {
      "text/plain": [
       "<keras.callbacks.callbacks.History at 0x1bd30200828>"
      ]
     },
     "execution_count": 10,
     "metadata": {},
     "output_type": "execute_result"
    }
   ],
   "source": [
    "model.compile(loss='categorical_crossentropy',optimizer='adam', metrics=['accuracy'])\n",
    "model.fit(x_train,y_train,epochs=30,batch_size=64)\n"
   ]
  },
  {
   "cell_type": "markdown",
   "metadata": {},
   "source": [
    "test data 로 generality 를 check"
   ]
  },
  {
   "cell_type": "code",
   "execution_count": 61,
   "metadata": {
    "scrolled": true
   },
   "outputs": [
    {
     "name": "stdout",
     "output_type": "stream",
     "text": [
      "60000/60000 [==============================] - 2s 26us/step\n",
      "10000/10000 [==============================] - 0s 25us/step\n",
      "[0.0016932068984431984, 0.9996166666666667]\n",
      "[0.07724655894196203, 0.9853]\n"
     ]
    },
    {
     "data": {
      "text/html": [
       "<div>\n",
       "<style scoped>\n",
       "    .dataframe tbody tr th:only-of-type {\n",
       "        vertical-align: middle;\n",
       "    }\n",
       "\n",
       "    .dataframe tbody tr th {\n",
       "        vertical-align: top;\n",
       "    }\n",
       "\n",
       "    .dataframe thead th {\n",
       "        text-align: right;\n",
       "    }\n",
       "</style>\n",
       "<table border=\"1\" class=\"dataframe\">\n",
       "  <thead>\n",
       "    <tr style=\"text-align: right;\">\n",
       "      <th></th>\n",
       "      <th>0</th>\n",
       "      <th>1</th>\n",
       "      <th>2</th>\n",
       "      <th>3</th>\n",
       "      <th>4</th>\n",
       "      <th>5</th>\n",
       "      <th>6</th>\n",
       "      <th>7</th>\n",
       "      <th>8</th>\n",
       "      <th>9</th>\n",
       "    </tr>\n",
       "  </thead>\n",
       "  <tbody>\n",
       "    <tr>\n",
       "      <th>0</th>\n",
       "      <td>6.194058e-20</td>\n",
       "      <td>1.543851e-16</td>\n",
       "      <td>5.002994e-12</td>\n",
       "      <td>5.879471e-12</td>\n",
       "      <td>1.921653e-17</td>\n",
       "      <td>2.172387e-20</td>\n",
       "      <td>8.632302e-35</td>\n",
       "      <td>1.000000e+00</td>\n",
       "      <td>1.505898e-15</td>\n",
       "      <td>1.402312e-10</td>\n",
       "    </tr>\n",
       "    <tr>\n",
       "      <th>1</th>\n",
       "      <td>1.773110e-15</td>\n",
       "      <td>1.343046e-16</td>\n",
       "      <td>1.000000e+00</td>\n",
       "      <td>2.149296e-15</td>\n",
       "      <td>3.389081e-21</td>\n",
       "      <td>1.079731e-18</td>\n",
       "      <td>7.891478e-17</td>\n",
       "      <td>2.729345e-17</td>\n",
       "      <td>1.753549e-15</td>\n",
       "      <td>1.040158e-20</td>\n",
       "    </tr>\n",
       "    <tr>\n",
       "      <th>2</th>\n",
       "      <td>1.003085e-12</td>\n",
       "      <td>9.999998e-01</td>\n",
       "      <td>1.764042e-07</td>\n",
       "      <td>2.180762e-11</td>\n",
       "      <td>4.792377e-10</td>\n",
       "      <td>6.744931e-13</td>\n",
       "      <td>8.021288e-09</td>\n",
       "      <td>8.970715e-08</td>\n",
       "      <td>1.060192e-08</td>\n",
       "      <td>1.556031e-15</td>\n",
       "    </tr>\n",
       "    <tr>\n",
       "      <th>3</th>\n",
       "      <td>1.000000e+00</td>\n",
       "      <td>2.679071e-22</td>\n",
       "      <td>8.096132e-12</td>\n",
       "      <td>6.897116e-14</td>\n",
       "      <td>3.153140e-16</td>\n",
       "      <td>2.451457e-12</td>\n",
       "      <td>1.956611e-10</td>\n",
       "      <td>2.660714e-17</td>\n",
       "      <td>2.974304e-18</td>\n",
       "      <td>1.921593e-11</td>\n",
       "    </tr>\n",
       "    <tr>\n",
       "      <th>4</th>\n",
       "      <td>1.328908e-09</td>\n",
       "      <td>3.842744e-12</td>\n",
       "      <td>2.796849e-11</td>\n",
       "      <td>8.706871e-13</td>\n",
       "      <td>9.999994e-01</td>\n",
       "      <td>4.950115e-14</td>\n",
       "      <td>9.592601e-10</td>\n",
       "      <td>4.728687e-07</td>\n",
       "      <td>6.603913e-11</td>\n",
       "      <td>1.569124e-07</td>\n",
       "    </tr>\n",
       "  </tbody>\n",
       "</table>\n",
       "</div>"
      ],
      "text/plain": [
       "              0             1             2             3             4  \\\n",
       "0  6.194058e-20  1.543851e-16  5.002994e-12  5.879471e-12  1.921653e-17   \n",
       "1  1.773110e-15  1.343046e-16  1.000000e+00  2.149296e-15  3.389081e-21   \n",
       "2  1.003085e-12  9.999998e-01  1.764042e-07  2.180762e-11  4.792377e-10   \n",
       "3  1.000000e+00  2.679071e-22  8.096132e-12  6.897116e-14  3.153140e-16   \n",
       "4  1.328908e-09  3.842744e-12  2.796849e-11  8.706871e-13  9.999994e-01   \n",
       "\n",
       "              5             6             7             8             9  \n",
       "0  2.172387e-20  8.632302e-35  1.000000e+00  1.505898e-15  1.402312e-10  \n",
       "1  1.079731e-18  7.891478e-17  2.729345e-17  1.753549e-15  1.040158e-20  \n",
       "2  6.744931e-13  8.021288e-09  8.970715e-08  1.060192e-08  1.556031e-15  \n",
       "3  2.451457e-12  1.956611e-10  2.660714e-17  2.974304e-18  1.921593e-11  \n",
       "4  4.950115e-14  9.592601e-10  4.728687e-07  6.603913e-11  1.569124e-07  "
      ]
     },
     "execution_count": 61,
     "metadata": {},
     "output_type": "execute_result"
    }
   ],
   "source": [
    "import pandas as pd\n",
    "result_train=model.evaluate(x_train,y_train)\n",
    "result_test=model.evaluate(x_test,y_test)\n",
    "print(result_train)\n",
    "print(result_test)\n",
    "pred=model.predict(x_test)\n",
    "pred=pd.DataFrame(pred)\n",
    "pred.head()"
   ]
  },
  {
   "cell_type": "markdown",
   "metadata": {},
   "source": [
    "## functional API\n",
    "이런 식으로도 표현할 수 있다."
   ]
  },
  {
   "cell_type": "code",
   "execution_count": 69,
   "metadata": {},
   "outputs": [],
   "source": [
    "import numpy as np\n",
    "from keras.layers import Dense, Dropout, Input\n",
    "from keras.models import Model\n",
    "\n",
    "x=Input(shape=(num_features,))\n",
    "h1=Dense(256, activation='relu')(x)\n",
    "h1=Dropout(0.45)(h1)\n",
    "h2=Dense(256, activation='relu')(h1)\n",
    "out=Dense(num_classes, activation='softmax')(h2)\n",
    "model=Model(inputs=x, outputs=out)"
   ]
  },
  {
   "cell_type": "code",
   "execution_count": null,
   "metadata": {},
   "outputs": [
    {
     "name": "stdout",
     "output_type": "stream",
     "text": [
      "Epoch 1/30\n",
      "60000/60000 [==============================] - 3s 51us/step - loss: 0.3077 - acc: 0.9065\n",
      "Epoch 2/30\n",
      "60000/60000 [==============================] - 2s 41us/step - loss: 0.1544 - acc: 0.9529\n",
      "Epoch 3/30\n",
      "60000/60000 [==============================] - 2s 41us/step - loss: 0.1252 - acc: 0.9620\n",
      "Epoch 4/30\n",
      "60000/60000 [==============================] - 2s 41us/step - loss: 0.1051 - acc: 0.9670\n",
      "Epoch 5/30\n",
      "60000/60000 [==============================] - 2s 41us/step - loss: 0.0950 - acc: 0.9699\n",
      "Epoch 6/30\n",
      "60000/60000 [==============================] - 2s 41us/step - loss: 0.0870 - acc: 0.9719\n",
      "Epoch 7/30\n",
      "60000/60000 [==============================] - 2s 41us/step - loss: 0.0801 - acc: 0.9748\n",
      "Epoch 8/30\n",
      "60000/60000 [==============================] - 2s 41us/step - loss: 0.0717 - acc: 0.9768\n",
      "Epoch 9/30\n",
      "60000/60000 [==============================] - 2s 41us/step - loss: 0.0701 - acc: 0.9779\n",
      "Epoch 10/30\n",
      "60000/60000 [==============================] - 2s 40us/step - loss: 0.0638 - acc: 0.9792\n",
      "Epoch 11/30\n",
      "60000/60000 [==============================] - 2s 41us/step - loss: 0.0613 - acc: 0.9808\n",
      "Epoch 12/30\n",
      "60000/60000 [==============================] - 2s 41us/step - loss: 0.0578 - acc: 0.9808\n",
      "Epoch 13/30\n",
      "60000/60000 [==============================] - 2s 41us/step - loss: 0.0567 - acc: 0.9816\n",
      "Epoch 14/30\n",
      "60000/60000 [==============================] - 2s 41us/step - loss: 0.0545 - acc: 0.9822\n",
      "Epoch 15/30\n",
      "60000/60000 [==============================] - 2s 41us/step - loss: 0.0550 - acc: 0.9817\n",
      "Epoch 16/30\n",
      "60000/60000 [==============================] - 2s 41us/step - loss: 0.0505 - acc: 0.9834\n",
      "Epoch 17/30\n",
      "60000/60000 [==============================] - 2s 41us/step - loss: 0.0484 - acc: 0.9842\n",
      "Epoch 18/30\n",
      "60000/60000 [==============================] - 2s 41us/step - loss: 0.0464 - acc: 0.9843\n",
      "Epoch 19/30\n",
      "60000/60000 [==============================] - 2s 41us/step - loss: 0.0441 - acc: 0.9857\n",
      "Epoch 20/30\n",
      "60000/60000 [==============================] - 2s 41us/step - loss: 0.0455 - acc: 0.9852\n",
      "Epoch 21/30\n",
      "60000/60000 [==============================] - 2s 41us/step - loss: 0.0430 - acc: 0.9855\n",
      "Epoch 22/30\n",
      "60000/60000 [==============================] - 2s 41us/step - loss: 0.0424 - acc: 0.9854\n",
      "Epoch 23/30\n",
      "60000/60000 [==============================] - 2s 41us/step - loss: 0.0400 - acc: 0.9867\n",
      "Epoch 24/30\n",
      "60000/60000 [==============================] - 2s 41us/step - loss: 0.0404 - acc: 0.9869\n",
      "Epoch 25/30\n",
      "60000/60000 [==============================] - 2s 41us/step - loss: 0.0388 - acc: 0.9870\n",
      "Epoch 26/30\n",
      "60000/60000 [==============================] - 2s 41us/step - loss: 0.0385 - acc: 0.9873\n",
      "Epoch 27/30\n",
      "60000/60000 [==============================] - 2s 41us/step - loss: 0.0385 - acc: 0.9874\n",
      "Epoch 28/30\n",
      "60000/60000 [==============================] - 2s 41us/step - loss: 0.0341 - acc: 0.9891\n",
      "Epoch 29/30\n",
      "23232/60000 [==========>...................] - ETA: 1s - loss: 0.0363 - acc: 0.9886"
     ]
    }
   ],
   "source": [
    "model.compile(loss='categorical_crossentropy', optimizer='adam',metrics=['acc'])\n",
    "model.fit(x_train,y_train,epochs=30,batch_size=64)"
   ]
  },
  {
   "cell_type": "code",
   "execution_count": 5,
   "metadata": {},
   "outputs": [
    {
     "name": "stdout",
     "output_type": "stream",
     "text": [
      "Model: \"sequential_2\"\n",
      "_________________________________________________________________\n",
      "Layer (type)                 Output Shape              Param #   \n",
      "=================================================================\n",
      "dense_2 (Dense)              (None, 2)                 6         \n",
      "_________________________________________________________________\n",
      "my_layer_2 (MyLayer)         (None, 4)                 8         \n",
      "_________________________________________________________________\n",
      "activation_2 (Activation)    (None, 4)                 0         \n",
      "=================================================================\n",
      "Total params: 14\n",
      "Trainable params: 14\n",
      "Non-trainable params: 0\n",
      "_________________________________________________________________\n",
      "Model: \"sequential_3\"\n",
      "_________________________________________________________________\n",
      "Layer (type)                 Output Shape              Param #   \n",
      "=================================================================\n",
      "dense_3 (Dense)              (None, 2)                 6         \n",
      "_________________________________________________________________\n",
      "my_layer_3 (MyLayer)         (None, 4)                 8         \n",
      "_________________________________________________________________\n",
      "activation_3 (Activation)    (None, 4)                 0         \n",
      "=================================================================\n",
      "Total params: 14\n",
      "Trainable params: 14\n",
      "Non-trainable params: 0\n",
      "_________________________________________________________________\n"
     ]
    }
   ],
   "source": [
    "import tensorflow as tf\n",
    "from tensorflow.keras.layers import Dense, Activation,Layer\n",
    "\n",
    "class MyLayer(Layer):\n",
    "    def __init__(self, out_dim):\n",
    "        self.out=out_dim\n",
    "        super(MyLayer,self).__init__()\n",
    "    def build(self,input_shape):\n",
    "        self.kernel=self.add_weight(shape=(input_shape[1],self.out),trainable=True)\n",
    "        \n",
    "    def call(self,inputs):\n",
    "        return tf.matmul(inputs,self.kernel)\n",
    "    \n",
    "model=tf.keras.Sequential([Dense(2,input_shape=(2,)),MyLayer(4),Activation('relu')])\n",
    "model.summary()\n",
    "model1=tf.keras.Sequential()\n",
    "model1.add(Dense(2, input_shape=(2,)))\n",
    "model1.add(MyLayer(4))\n",
    "model1.add(Activation('relu'))\n",
    "model1.summary()"
   ]
  },
  {
   "cell_type": "code",
   "execution_count": null,
   "metadata": {},
   "outputs": [],
   "source": [
    "pip install --upgrade tensorflow-gpu"
   ]
  }
 ],
 "metadata": {
  "kernelspec": {
   "display_name": "Python 3",
   "language": "python",
   "name": "python3"
  },
  "language_info": {
   "codemirror_mode": {
    "name": "ipython",
    "version": 3
   },
   "file_extension": ".py",
   "mimetype": "text/x-python",
   "name": "python",
   "nbconvert_exporter": "python",
   "pygments_lexer": "ipython3",
   "version": "3.8.3"
  }
 },
 "nbformat": 4,
 "nbformat_minor": 4
}
