{
 "cells": [
  {
   "cell_type": "markdown",
   "metadata": {},
   "source": [
    "# SimpleRNN"
   ]
  },
  {
   "cell_type": "markdown",
   "metadata": {},
   "source": [
    "### Sequential API"
   ]
  },
  {
   "cell_type": "code",
   "execution_count": 1,
   "metadata": {},
   "outputs": [
    {
     "name": "stderr",
     "output_type": "stream",
     "text": [
      "Using TensorFlow backend.\n"
     ]
    },
    {
     "name": "stdout",
     "output_type": "stream",
     "text": [
      "Model: \"sequential_1\"\n",
      "_________________________________________________________________\n",
      "Layer (type)                 Output Shape              Param #   \n",
      "=================================================================\n",
      "simple_rnn_1 (SimpleRNN)     (None, 256)               72960     \n",
      "_________________________________________________________________\n",
      "dense_1 (Dense)              (None, 10)                2570      \n",
      "=================================================================\n",
      "Total params: 75,530\n",
      "Trainable params: 75,530\n",
      "Non-trainable params: 0\n",
      "_________________________________________________________________\n",
      "Epoch 1/30\n",
      "60000/60000 [==============================] - 12s 205us/step - loss: 0.4510 - accuracy: 0.8607\n",
      "Epoch 2/30\n",
      "60000/60000 [==============================] - 12s 198us/step - loss: 0.2587 - accuracy: 0.9235\n",
      "Epoch 3/30\n",
      "60000/60000 [==============================] - 12s 196us/step - loss: 0.2209 - accuracy: 0.9348\n",
      "Epoch 4/30\n",
      "60000/60000 [==============================] - 12s 200us/step - loss: 0.1986 - accuracy: 0.9402\n",
      "Epoch 5/30\n",
      "60000/60000 [==============================] - 12s 206us/step - loss: 0.1845 - accuracy: 0.9459\n",
      "Epoch 6/30\n",
      "60000/60000 [==============================] - 12s 198us/step - loss: 0.1767 - accuracy: 0.9483\n",
      "Epoch 7/30\n",
      "60000/60000 [==============================] - 11s 187us/step - loss: 0.1715 - accuracy: 0.9493\n",
      "Epoch 8/30\n",
      "60000/60000 [==============================] - 12s 198us/step - loss: 0.1614 - accuracy: 0.9524\n",
      "Epoch 9/30\n",
      "60000/60000 [==============================] - 12s 193us/step - loss: 0.1618 - accuracy: 0.9523\n",
      "Epoch 10/30\n",
      "60000/60000 [==============================] - 12s 201us/step - loss: 0.1668 - accuracy: 0.9513\n",
      "Epoch 11/30\n",
      "60000/60000 [==============================] - 11s 183us/step - loss: 0.1559 - accuracy: 0.9535\n",
      "Epoch 12/30\n",
      "60000/60000 [==============================] - 12s 200us/step - loss: 0.1582 - accuracy: 0.9534\n",
      "Epoch 13/30\n",
      "60000/60000 [==============================] - 12s 202us/step - loss: 0.1557 - accuracy: 0.9540\n",
      "Epoch 14/30\n",
      "60000/60000 [==============================] - 12s 206us/step - loss: 0.1568 - accuracy: 0.9548\n",
      "Epoch 15/30\n",
      "60000/60000 [==============================] - 12s 202us/step - loss: 0.1542 - accuracy: 0.9547\n",
      "Epoch 16/30\n",
      "60000/60000 [==============================] - 11s 185us/step - loss: 0.1501 - accuracy: 0.9558\n",
      "Epoch 17/30\n",
      "60000/60000 [==============================] - 10s 168us/step - loss: 0.1504 - accuracy: 0.9558\n",
      "Epoch 18/30\n",
      "60000/60000 [==============================] - 10s 170us/step - loss: 0.1512 - accuracy: 0.9554\n",
      "Epoch 19/30\n",
      "60000/60000 [==============================] - 10s 174us/step - loss: 0.1535 - accuracy: 0.9549\n",
      "Epoch 20/30\n",
      "60000/60000 [==============================] - 11s 183us/step - loss: 0.1516 - accuracy: 0.9560\n",
      "Epoch 21/30\n",
      "60000/60000 [==============================] - 12s 202us/step - loss: 0.1449 - accuracy: 0.9583\n",
      "Epoch 22/30\n",
      "60000/60000 [==============================] - 11s 176us/step - loss: 0.1471 - accuracy: 0.9574\n",
      "Epoch 23/30\n",
      "60000/60000 [==============================] - 11s 192us/step - loss: 0.1593 - accuracy: 0.9530\n",
      "Epoch 24/30\n",
      "60000/60000 [==============================] - 12s 196us/step - loss: 0.1577 - accuracy: 0.9537\n",
      "Epoch 25/30\n",
      "60000/60000 [==============================] - 12s 201us/step - loss: 0.1608 - accuracy: 0.9531\n",
      "Epoch 26/30\n",
      "60000/60000 [==============================] - 12s 207us/step - loss: 0.1627 - accuracy: 0.9516\n",
      "Epoch 27/30\n",
      "60000/60000 [==============================] - 12s 195us/step - loss: 0.1571 - accuracy: 0.9533\n",
      "Epoch 28/30\n",
      "60000/60000 [==============================] - 10s 171us/step - loss: 0.1651 - accuracy: 0.9519\n",
      "Epoch 29/30\n",
      "60000/60000 [==============================] - 10s 173us/step - loss: 0.1635 - accuracy: 0.9517\n",
      "Epoch 30/30\n",
      "60000/60000 [==============================] - 10s 168us/step - loss: 0.1591 - accuracy: 0.9525\n",
      "10000/10000 [==============================] - 1s 84us/step\n",
      "[0.12326440288275481, 0.9625999927520752]\n"
     ]
    }
   ],
   "source": [
    "import numpy as np\n",
    "from tensorflow.keras.layers import Dense, Dropout, Input, SimpleRNN\n",
    "from tensorflow.keras.models import Sequential, Model\n",
    "from tensorflow.keras.utils import to_categorical, plot_model\n",
    "from tensorflow.keras.datasets import mnist\n",
    "\n",
    "(x_train,y_train),(x_test,y_test)=mnist.load_data()\n",
    "y_train=to_categorical(y_train)\n",
    "y_test=to_categorical(y_test)\n",
    "\n",
    "shape1=x_train.shape[1]\n",
    "shape2=x_train.shape[2]\n",
    "\n",
    "#shape1:timestep=28,shape2:특성변수\n",
    "x_train=x_train.reshape(-1, shape1,shape2).astype('float32') #RNN의 입력은 표본을 포함하여 3D 텐서임\n",
    "x_test=x_test.reshape(-1, shape1,shape2).astype('float32')\n",
    "x_train=x_train/255.\n",
    "x_test=x_test/255.\n",
    "\n",
    "input_shape=(shape1,shape2) #RNN의 표본 하나당 입력은 2D 텐서임\n",
    "\n",
    "#SimpleRNN 모델\n",
    "model=Sequential()\n",
    "model.add(SimpleRNN(units=256,dropout=0.2, input_shape=input_shape))\n",
    "model.add(Dense(10,activation='softmax'))\n",
    "model.summary()\n",
    "plot_model(model,to_file='C:/Users/ysp/Desktop/딥러닝 프로그램/ch2_3.png', show_shapes=True)\n",
    "model.compile(loss='categorical_crossentropy', optimizer='RMSprop',metrics=['accuracy'])\n",
    "model.fit(x_train,y_train,epochs=30,batch_size=64)\n",
    "score=model.evaluate(x_test,y_test)\n",
    "print(score)"
   ]
  },
  {
   "cell_type": "markdown",
   "metadata": {},
   "source": [
    "* simpeRNN 에서의 Dropout \n",
    "특성변수 xt 에 대해. x변수에 대해. xt의 특성변수의 노드의 수에서 20%를 드랍함.\n",
    "* recurrent dropout\n",
    "-> \n",
    "* Simple RNN : (28개의 linear combination + 256개의 linear combination + bias 256개) *256 = 72960\n",
    "=> 75000 개의 param 개수. CNN 에서보다 줄어들음.\n",
    "* LSTM 은 4배\n",
    "* GRU 는 3배"
   ]
  },
  {
   "cell_type": "markdown",
   "metadata": {},
   "source": [
    "### functional API\n",
    "input A -> dense1 -> dense2 ->\n",
    "* 두 개 이상의 input, output이 있으면 functional API 를 쓸수밖에 없다.\n",
    "* concatenate 같은 경우에는 default로 맨 마지막 축 특성변수로. 특성변수를 늘려준다. / default -1으로\n",
    "* 맨 마지막 축은 사실상/대부분 특성변수의 역할을 한다.\n",
    "* Boston Housing data: 13개의 특성변수의 1개의 "
   ]
  },
  {
   "cell_type": "code",
   "execution_count": null,
   "metadata": {},
   "outputs": [],
   "source": [
    "# p.92 boston housing data"
   ]
  },
  {
   "cell_type": "code",
   "execution_count": 1,
   "metadata": {
    "scrolled": true
   },
   "outputs": [
    {
     "name": "stdout",
     "output_type": "stream",
     "text": [
      "float64 float64\n",
      "(404, 13) (404,)\n",
      "(102, 13)\n"
     ]
    }
   ],
   "source": [
    "import tensorflow as tf\n",
    "from tensorflow.keras.datasets import boston_housing\n",
    "\n",
    "\n",
    "(x_train,y_train),(x_test,y_test)=boston_housing.load_data()\n",
    "\n",
    "print(x_train.dtype,y_train.dtype)\n",
    "print(x_train.shape,y_train.shape)\n",
    "print(x_test.shape)"
   ]
  },
  {
   "cell_type": "code",
   "execution_count": 1,
   "metadata": {},
   "outputs": [],
   "source": [
    "# input A, input B 두개이므로 데이터를 쪼갬"
   ]
  },
  {
   "cell_type": "code",
   "execution_count": 2,
   "metadata": {},
   "outputs": [
    {
     "name": "stdout",
     "output_type": "stream",
     "text": [
      "(404, 10) (404, 10)\n"
     ]
    }
   ],
   "source": [
    "x_train1, x_train2=x_train[:,:10],x_train[:,3:]\n",
    "x_test1,x_test2=x_test[:,:10],x_test[:,3:]\n",
    "print(x_train1.shape,x_train2.shape)"
   ]
  },
  {
   "cell_type": "code",
   "execution_count": 3,
   "metadata": {
    "scrolled": true
   },
   "outputs": [
    {
     "name": "stdout",
     "output_type": "stream",
     "text": [
      "Model: \"model\"\n",
      "__________________________________________________________________________________________________\n",
      "Layer (type)                    Output Shape         Param #     Connected to                     \n",
      "==================================================================================================\n",
      "input_1 (InputLayer)            [(None, 10)]         0                                            \n",
      "__________________________________________________________________________________________________\n",
      "dense (Dense)                   (None, 16)           176         input_1[0][0]                    \n",
      "__________________________________________________________________________________________________\n",
      "dense_1 (Dense)                 (None, 16)           272         dense[0][0]                      \n",
      "__________________________________________________________________________________________________\n",
      "input_2 (InputLayer)            [(None, 10)]         0                                            \n",
      "__________________________________________________________________________________________________\n",
      "concatenate (Concatenate)       (None, 26)           0           input_2[0][0]                    \n",
      "                                                                 dense_1[0][0]                    \n",
      "__________________________________________________________________________________________________\n",
      "dense_2 (Dense)                 (None, 1)            17          dense_1[0][0]                    \n",
      "__________________________________________________________________________________________________\n",
      "dense_3 (Dense)                 (None, 1)            27          concatenate[0][0]                \n",
      "==================================================================================================\n",
      "Total params: 492\n",
      "Trainable params: 492\n",
      "Non-trainable params: 0\n",
      "__________________________________________________________________________________________________\n"
     ]
    },
    {
     "data": {
      "image/png": "[encoded data removed]",
      "text/plain": [
       "<IPython.core.display.Image object>"
      ]
     },
     "execution_count": 3,
     "metadata": {},
     "output_type": "execute_result"
    }
   ],
   "source": [
    "from tensorflow.keras.models import Model\n",
    "from tensorflow.keras.layers import Input,Dense, concatenate\n",
    "from tensorflow.keras.utils import plot_model\n",
    "\n",
    "input_A=Input(shape=[10]) #input1\n",
    "input_B=Input(shape=[10]) #input2\n",
    "h1=Dense(16,activation='relu')(input_A) #그림 4-1에서 dense1에 해당\n",
    "h2=Dense(16,activation='relu')(h1) #dense2에 해당\n",
    "concat=concatenate([input_B,h2]) #inputB와 h2를 연결. concatenate.\n",
    "out1=Dense(1)(h2) #output 하나를 꺼내고\n",
    "out2=Dense(1)(concat) #concat 해서 output2를 만듦\n",
    "model=Model(inputs=[input_A,input_B],outputs=[out1,out2]) #input과 output을 선언해줌 -> 모델 생성.\n",
    "model.summary()\n",
    "plot_model(model,show_shapes=True)"
   ]
  },
  {
   "cell_type": "markdown",
   "metadata": {},
   "source": [
    "=> concatenate 에서 사이즈가 26 : 10 + 16"
   ]
  },
  {
   "cell_type": "markdown",
   "metadata": {},
   "source": [
    "layer가 어떻게 형성되어 있는지 확인. model.layers"
   ]
  },
  {
   "cell_type": "code",
   "execution_count": 4,
   "metadata": {
    "scrolled": true
   },
   "outputs": [
    {
     "data": {
      "text/plain": [
       "[<tensorflow.python.keras.engine.input_layer.InputLayer at 0x1be44ee4a20>,\n",
       " <tensorflow.python.keras.layers.core.Dense at 0x1be387d1780>,\n",
       " <tensorflow.python.keras.layers.core.Dense at 0x1be44ef6208>,\n",
       " <tensorflow.python.keras.engine.input_layer.InputLayer at 0x1be44ee4a58>,\n",
       " <tensorflow.python.keras.layers.merge.Concatenate at 0x1be44ef6cf8>,\n",
       " <tensorflow.python.keras.layers.core.Dense at 0x1be44f2cef0>,\n",
       " <tensorflow.python.keras.layers.core.Dense at 0x1be44f2cdd8>]"
      ]
     },
     "execution_count": 4,
     "metadata": {},
     "output_type": "execute_result"
    }
   ],
   "source": [
    "model.layers"
   ]
  },
  {
   "cell_type": "markdown",
   "metadata": {},
   "source": [
    "get_weights 로 weight를 찍어봄.\n",
    "shape도 찍어봄."
   ]
  },
  {
   "cell_type": "code",
   "execution_count": 5,
   "metadata": {
    "scrolled": true
   },
   "outputs": [
    {
     "name": "stdout",
     "output_type": "stream",
     "text": [
      "(10, 16) [[-0.10724235 -0.18741104 -0.44234705  0.14790177 -0.46027634 -0.17149696\n",
      "   0.38175774 -0.00334138 -0.38418514 -0.41433114  0.11831856 -0.24922806\n",
      "   0.02667409 -0.23837002 -0.18275312 -0.10767919]\n",
      " [-0.34755817  0.06121993  0.17995185  0.45067543  0.30367386  0.35875112\n",
      "   0.4366793   0.08975631 -0.15981716  0.31862277 -0.17342982  0.4313659\n",
      "   0.28060424 -0.21023268  0.02463055 -0.4501135 ]\n",
      " [-0.33583942 -0.06272307 -0.2552985  -0.01841912 -0.2402802  -0.02759352\n",
      "   0.27279097  0.26227653  0.4148528  -0.41311777  0.38369638 -0.07311404\n",
      "  -0.28672922 -0.05390751 -0.43245807  0.25751954]\n",
      " [ 0.2729907  -0.2843875  -0.43425888 -0.32864895  0.4181382  -0.07440725\n",
      "  -0.10804075  0.17574221  0.1496318  -0.18839201  0.2541082   0.29582024\n",
      "   0.42360288  0.367689   -0.13823384 -0.17317131]\n",
      " [-0.40499395 -0.14063042  0.34658545  0.41513675  0.16247171 -0.37963519\n",
      "  -0.00273505  0.17027992  0.4439537  -0.3884431   0.4665851   0.3998283\n",
      "  -0.46063048 -0.36793557  0.01762268  0.47255355]\n",
      " [ 0.24023783 -0.3073206  -0.2832384   0.26845026  0.11454028 -0.32568842\n",
      "   0.03918481 -0.1722979  -0.1910376   0.29489183  0.1459248  -0.1360181\n",
      "   0.46766073  0.04236585  0.4106567  -0.10821348]\n",
      " [ 0.13324654  0.47210616  0.09378868  0.16249472  0.18900502 -0.43685523\n",
      "  -0.41550326 -0.4051503  -0.23568653  0.38336092 -0.10579523  0.34253156\n",
      "  -0.29884827 -0.3675378  -0.3044064  -0.39308488]\n",
      " [-0.37491578 -0.19238669  0.45064563 -0.12042299 -0.07996792  0.006156\n",
      "   0.04837292  0.3829586   0.17318827 -0.4028648   0.36748672  0.4022051\n",
      "  -0.14971769 -0.20018026  0.34886867  0.19769758]\n",
      " [ 0.33147353 -0.2742557   0.29733562  0.2325567   0.46503437 -0.22861907\n",
      "   0.10702568 -0.13030073 -0.45078993 -0.41796502  0.14305383 -0.17338458\n",
      "   0.16338027  0.21145535 -0.40869132  0.14291835]\n",
      " [ 0.47109437 -0.02032587  0.4633016   0.27497095 -0.10051036  0.41266972\n",
      "  -0.4475189  -0.3719859  -0.08801931  0.39991528 -0.08623216 -0.3112051\n",
      "  -0.26424444  0.221434    0.4128691  -0.2848484 ]]\n",
      "(16,) [0. 0. 0. 0. 0. 0. 0. 0. 0. 0. 0. 0. 0. 0. 0. 0.]\n"
     ]
    }
   ],
   "source": [
    "hidden1=model.layers[1]\n",
    "weights,biases=hidden1.get_weights()\n",
    "print(weights.shape,weights)\n",
    "print(biases.shape,biases)"
   ]
  },
  {
   "cell_type": "markdown",
   "metadata": {},
   "source": [
    "(16,) [0. 0. 0. 0. 0. 0. 0. 0. 0. 0. 0. 0. 0. 0. 0. 0.]\n",
    "=> bias 16개, 초기치는 전부 0임"
   ]
  },
  {
   "cell_type": "markdown",
   "metadata": {},
   "source": [
    "#### compile\n",
    "* output이 2개니까 각각 mse,mse\n",
    "* 각각 loss weight 20%,80%로\n",
    "\n",
    "#### fit\n",
    "* input, output 각각 2개씩 선언\n",
    "\n",
    "(3/30 2시 40분쯤부터 다시듣기)\n",
    "mse는 절대값이 크니까 weight를 작게 줘야함. (??)"
   ]
  },
  {
   "cell_type": "code",
   "execution_count": 6,
   "metadata": {
    "scrolled": true
   },
   "outputs": [
    {
     "name": "stdout",
     "output_type": "stream",
     "text": [
      "Train on 404 samples, validate on 102 samples\n",
      "Epoch 1/10\n",
      "404/404 [==============================] - 1s 3ms/sample - loss: 2496.5655 - dense_2_loss: 280.8043 - dense_3_loss: 2974.4536 - val_loss: 768.2579 - val_dense_2_loss: 212.2110 - val_dense_3_loss: 881.3286\n",
      "Epoch 2/10\n",
      "404/404 [==============================] - 0s 146us/sample - loss: 775.2612 - dense_2_loss: 191.5917 - dense_3_loss: 920.3929 - val_loss: 502.0324 - val_dense_2_loss: 213.6602 - val_dense_3_loss: 532.6976\n",
      "Epoch 3/10\n",
      "404/404 [==============================] - 0s 141us/sample - loss: 609.4327 - dense_2_loss: 188.7000 - dense_3_loss: 708.9359 - val_loss: 424.8711 - val_dense_2_loss: 212.0175 - val_dense_3_loss: 441.2438\n",
      "Epoch 4/10\n",
      "404/404 [==============================] - 0s 114us/sample - loss: 502.0875 - dense_2_loss: 189.6873 - dense_3_loss: 578.1742 - val_loss: 364.4220 - val_dense_2_loss: 209.4529 - val_dense_3_loss: 375.9322\n",
      "Epoch 5/10\n",
      "404/404 [==============================] - 0s 99us/sample - loss: 430.5802 - dense_2_loss: 187.0646 - dense_3_loss: 488.2010 - val_loss: 291.0820 - val_dense_2_loss: 208.5839 - val_dense_3_loss: 308.0371\n",
      "Epoch 6/10\n",
      "404/404 [==============================] - 0s 114us/sample - loss: 350.1722 - dense_2_loss: 184.1891 - dense_3_loss: 396.5453 - val_loss: 293.8202 - val_dense_2_loss: 204.5172 - val_dense_3_loss: 303.7521\n",
      "Epoch 7/10\n",
      "404/404 [==============================] - 0s 109us/sample - loss: 291.9804 - dense_2_loss: 166.0916 - dense_3_loss: 320.7404 - val_loss: 203.9468 - val_dense_2_loss: 191.6695 - val_dense_3_loss: 240.7779\n",
      "Epoch 8/10\n",
      "404/404 [==============================] - 0s 111us/sample - loss: 255.0242 - dense_2_loss: 155.6451 - dense_3_loss: 279.0089 - val_loss: 181.5321 - val_dense_2_loss: 182.0433 - val_dense_3_loss: 207.6938\n",
      "Epoch 9/10\n",
      "404/404 [==============================] - 0s 96us/sample - loss: 217.1433 - dense_2_loss: 149.8668 - dense_3_loss: 237.6712 - val_loss: 165.9564 - val_dense_2_loss: 200.1920 - val_dense_3_loss: 194.0922\n",
      "Epoch 10/10\n",
      "404/404 [==============================] - 0s 106us/sample - loss: 193.8102 - dense_2_loss: 142.8215 - dense_3_loss: 207.2120 - val_loss: 178.7133 - val_dense_2_loss: 179.6934 - val_dense_3_loss: 198.5415\n"
     ]
    }
   ],
   "source": [
    "model.compile(loss=['mse','mse'],loss_weights=[0.2,0.8], optimizer='RMSprop')\n",
    "history=model.fit([x_train1,x_train2],[y_train,y_train],epochs=10, batch_size=32, validation_data=([x_test1,x_test2],[y_test,y_test]))"
   ]
  },
  {
   "cell_type": "code",
   "execution_count": 7,
   "metadata": {
    "scrolled": true
   },
   "outputs": [
    {
     "name": "stdout",
     "output_type": "stream",
     "text": [
      "[[-0.04042259 -0.25586587 -0.5182084   0.18659775 -0.44329733 -0.22203964\n",
      "   0.38175774 -0.00334138 -0.38418514 -0.3300557   0.11831856 -0.24922806\n",
      "   0.02667409 -0.1424246  -0.14768825 -0.10767919]\n",
      " [-0.39397532  0.104612    0.2528646   0.45324126  0.29038197  0.37839597\n",
      "   0.4366793   0.08975631 -0.15981716  0.23135102 -0.17342982  0.4313659\n",
      "   0.28060424 -0.3213191   0.04969104 -0.4501135 ]\n",
      " [-0.30271485 -0.08886024 -0.29735708  0.00885042 -0.24432737 -0.04970498\n",
      "   0.27279097  0.26227653  0.4148528  -0.3669234   0.38369638 -0.07311404\n",
      "  -0.28672922 -0.00597191 -0.41262582  0.25751954]\n",
      " [ 0.30080804 -0.30743006 -0.43843773 -0.2882337   0.41088626 -0.11438128\n",
      "  -0.10804075  0.17574221  0.1496318  -0.18577288  0.2541082   0.29582024\n",
      "   0.42360288  0.29999676 -0.08651935 -0.17317131]\n",
      " [-0.4106778  -0.13202336  0.3556216   0.42308465  0.15898243 -0.37858433\n",
      "  -0.00273505  0.17027992  0.4439537  -0.40149415  0.4665851   0.3998283\n",
      "  -0.46063048 -0.4156246   0.02963799  0.47255355]\n",
      " [ 0.21353507 -0.28149202 -0.24453054  0.27131867  0.10701589 -0.31381333\n",
      "   0.03918481 -0.1722979  -0.1910376   0.24840456  0.1459248  -0.1360181\n",
      "   0.46766073 -0.04841841  0.42440102 -0.10821348]\n",
      " [ 0.15164694  0.47002956  0.07449886  0.1826918   0.19167638 -0.45385072\n",
      "  -0.41550326 -0.4051503  -0.23568653  0.4044428  -0.10579523  0.34253156\n",
      "  -0.29884827 -0.36624226 -0.28453228 -0.39308488]\n",
      " [-0.44678798 -0.12345605  0.5280967  -0.15708584 -0.09094337  0.0652988\n",
      "   0.04837292  0.3829586   0.17318827 -0.49023157  0.36748672  0.4022051\n",
      "  -0.14971769 -0.31649485  0.32656497  0.19769758]\n",
      " [ 0.40407884 -0.33958706  0.22184461  0.28998336  0.4642335  -0.28727302\n",
      "   0.10702568 -0.13030073 -0.45078993 -0.3331689   0.14305383 -0.17338458\n",
      "   0.16338027  0.29709387 -0.34818584  0.14291835]\n",
      " [ 0.50121975 -0.04319911  0.4313307   0.30455625 -0.10586624  0.3886726\n",
      "  -0.4475189  -0.3719859  -0.08801931  0.43411508 -0.08623216 -0.3112051\n",
      "  -0.26424444  0.24114358  0.44662502 -0.2848484 ]] [-0.03135152  0.03135516  0.03864438 -0.00678656 -0.00639492  0.02015025\n",
      "  0.          0.          0.         -0.04611609  0.          0.\n",
      "  0.         -0.08659805  0.00119505  0.        ]\n"
     ]
    }
   ],
   "source": [
    "hidden2=model.layers[1]\n",
    "weights,biases=hidden2.get_weights()\n",
    "print(weights,biases)"
   ]
  },
  {
   "cell_type": "markdown",
   "metadata": {},
   "source": [
    "## Subclassing API\n",
    "* 맞춤형으로 만들 수 있는 API. customization 으로 class를 만듦\n",
    "* python 용법임. class를 정의.\n",
    "* subclassing 을 쓰는 이유: sequential 은 1A로 감. functional 은 병렬형. 점프, if문, ... 등 을 위해 subclassing 을 씀."
   ]
  },
  {
   "cell_type": "code",
   "execution_count": 11,
   "metadata": {},
   "outputs": [],
   "source": [
    "import tensorflow as tf\n",
    "#tf.keras 에 내장된 model.Model을 parent로 가져올 것이라는 뜻.\n",
    "#parent에 있는 모든 키워드와 용법들을 사용할 수 있음.\n",
    "class TinoutModel(tf.keras.models.Model): \n",
    "    #initial: 모형을 만들기 위한 연료, 재료들을 정의.\n",
    "    # models.Model 에 있는 argument들을 불러옴.\n",
    "    #**kwargs : dictionary 형태의 데이터를 저장해라. super 라는건 parent 모델의 모든걸 저장해라.\n",
    "    def __init__(self,units=30,activation='relu',**kwargs):\n",
    "        super().__init__(**kwargs)\n",
    "        self.h1=Dense(units,activation=activation)\n",
    "        self.h2=Dense(units,activation=activation)\n",
    "        self.out1=Dense(1)\n",
    "        self.out2=Dense(1)\n",
    "    # call 함수에 의해 묶음. 반드시 'call' 이라고 해야함. \n",
    "    # 왜냐하면 parent model 이 이런 형식으로 되어있기 때문에.\n",
    "    # fit을 할 때 call이 작동하면서 비소로 데이터가 공급되기 시작함. input, output.\n",
    "    def call(self,inputs):\n",
    "        input_A,input_B=inputs\n",
    "        h1=self.h1(input_A)\n",
    "        h2=self.h2(h1)\n",
    "        concat=concatenate([input_B,h2])\n",
    "        out1=self.out1(h2)\n",
    "        out2=self.out2(concat)\n",
    "        return out1,out2\n",
    "\n",
    "# model 이라는걸로 TinoutModel을 객체화함\n",
    "model=TinoutModel(units=16)"
   ]
  },
  {
   "cell_type": "code",
   "execution_count": 12,
   "metadata": {
    "scrolled": true
   },
   "outputs": [
    {
     "name": "stdout",
     "output_type": "stream",
     "text": [
      "Train on 404 samples, validate on 102 samples\n",
      "Epoch 1/20\n",
      "404/404 [==============================] - 1s 2ms/sample - loss: 609.5126 - output_1_loss: 1015.6562 - output_2_loss: 500.4515 - val_loss: 388.0870 - val_output_1_loss: 288.0276 - val_output_2_loss: 408.0510\n",
      "Epoch 2/20\n",
      "404/404 [==============================] - 0s 106us/sample - loss: 288.7407 - output_1_loss: 201.3183 - output_2_loss: 306.3927 - val_loss: 265.7160 - val_output_1_loss: 174.8161 - val_output_2_loss: 295.5755\n",
      "Epoch 3/20\n",
      "404/404 [==============================] - 0s 136us/sample - loss: 203.4773 - output_1_loss: 141.3242 - output_2_loss: 216.5484 - val_loss: 201.6781 - val_output_1_loss: 173.7376 - val_output_2_loss: 221.0680\n",
      "Epoch 4/20\n",
      "404/404 [==============================] - 0s 148us/sample - loss: 149.6524 - output_1_loss: 133.2197 - output_2_loss: 153.1761 - val_loss: 159.6609 - val_output_1_loss: 162.0281 - val_output_2_loss: 162.6199\n",
      "Epoch 5/20\n",
      "404/404 [==============================] - 0s 121us/sample - loss: 117.1206 - output_1_loss: 127.0059 - output_2_loss: 112.9175 - val_loss: 126.2474 - val_output_1_loss: 157.6980 - val_output_2_loss: 127.1442\n",
      "Epoch 6/20\n",
      "404/404 [==============================] - 0s 99us/sample - loss: 93.3119 - output_1_loss: 119.6542 - output_2_loss: 86.6501 - val_loss: 107.4245 - val_output_1_loss: 155.2411 - val_output_2_loss: 104.9983\n",
      "Epoch 7/20\n",
      "404/404 [==============================] - 0s 133us/sample - loss: 84.4759 - output_1_loss: 115.7272 - output_2_loss: 76.8027 - val_loss: 96.8266 - val_output_1_loss: 147.3110 - val_output_2_loss: 92.2443\n",
      "Epoch 8/20\n",
      "404/404 [==============================] - 0s 126us/sample - loss: 76.7705 - output_1_loss: 110.3268 - output_2_loss: 68.3420 - val_loss: 105.2757 - val_output_1_loss: 152.3060 - val_output_2_loss: 109.1829\n",
      "Epoch 9/20\n",
      "404/404 [==============================] - 0s 123us/sample - loss: 79.6702 - output_1_loss: 108.1521 - output_2_loss: 72.2655 - val_loss: 88.9668 - val_output_1_loss: 139.6877 - val_output_2_loss: 81.5365\n",
      "Epoch 10/20\n",
      "404/404 [==============================] - 0s 146us/sample - loss: 74.4506 - output_1_loss: 105.1995 - output_2_loss: 66.6858 - val_loss: 88.8736 - val_output_1_loss: 137.3571 - val_output_2_loss: 80.4983\n",
      "Epoch 11/20\n",
      "404/404 [==============================] - 0s 121us/sample - loss: 73.1161 - output_1_loss: 103.0982 - output_2_loss: 66.0290 - val_loss: 85.8820 - val_output_1_loss: 142.6979 - val_output_2_loss: 79.9665\n",
      "Epoch 12/20\n",
      "404/404 [==============================] - 0s 114us/sample - loss: 72.9810 - output_1_loss: 100.6378 - output_2_loss: 65.2751 - val_loss: 93.4986 - val_output_1_loss: 141.9236 - val_output_2_loss: 95.6674\n",
      "Epoch 13/20\n",
      "404/404 [==============================] - 0s 146us/sample - loss: 73.2542 - output_1_loss: 101.0176 - output_2_loss: 66.1128 - val_loss: 85.7476 - val_output_1_loss: 139.9943 - val_output_2_loss: 82.4681\n",
      "Epoch 14/20\n",
      "404/404 [==============================] - 0s 146us/sample - loss: 73.9231 - output_1_loss: 102.1482 - output_2_loss: 67.0886 - val_loss: 85.1867 - val_output_1_loss: 129.9666 - val_output_2_loss: 77.6102\n",
      "Epoch 15/20\n",
      "404/404 [==============================] - 0s 170us/sample - loss: 72.3370 - output_1_loss: 99.1824 - output_2_loss: 66.1279 - val_loss: 84.1296 - val_output_1_loss: 130.5726 - val_output_2_loss: 77.2232\n",
      "Epoch 16/20\n",
      "404/404 [==============================] - 0s 158us/sample - loss: 69.8942 - output_1_loss: 97.5632 - output_2_loss: 62.6336 - val_loss: 83.4759 - val_output_1_loss: 128.4358 - val_output_2_loss: 81.5454\n",
      "Epoch 17/20\n",
      "404/404 [==============================] - 0s 151us/sample - loss: 72.6423 - output_1_loss: 95.7157 - output_2_loss: 67.2326 - val_loss: 87.5252 - val_output_1_loss: 127.9450 - val_output_2_loss: 77.6132\n",
      "Epoch 18/20\n",
      "404/404 [==============================] - 0s 158us/sample - loss: 72.3285 - output_1_loss: 97.9401 - output_2_loss: 65.8307 - val_loss: 89.8951 - val_output_1_loss: 123.7267 - val_output_2_loss: 79.1314\n",
      "Epoch 19/20\n",
      "404/404 [==============================] - 0s 138us/sample - loss: 67.9320 - output_1_loss: 94.7287 - output_2_loss: 61.2131 - val_loss: 84.1692 - val_output_1_loss: 123.1745 - val_output_2_loss: 73.7085\n",
      "Epoch 20/20\n",
      "404/404 [==============================] - 0s 146us/sample - loss: 67.7904 - output_1_loss: 94.9116 - output_2_loss: 60.4945 - val_loss: 80.0621 - val_output_1_loss: 123.3069 - val_output_2_loss: 76.8472\n"
     ]
    }
   ],
   "source": [
    "model.compile(loss=['mse','mse'],loss_weights=[0.2,0.8], optimizer='RMSprop')\n",
    "# fit을 할 때 데이터가 들어감. 그걸 call이 활성화시킴.input이 인식이 될 때.\n",
    "history=model.fit([x_train1,x_train2],[y_train,y_train],epochs=20, batch_size=32, validation_data=([x_test1,x_test2],[y_test,y_test]))"
   ]
  },
  {
   "cell_type": "markdown",
   "metadata": {},
   "source": [
    "* subclassing API의 단점: summary로 해도 데이터를 직접 넣기 전에는 알지 못함.\n",
    "* call 함수에서 인식이 돼야하기 때문에."
   ]
  },
  {
   "cell_type": "code",
   "execution_count": 13,
   "metadata": {},
   "outputs": [
    {
     "name": "stdout",
     "output_type": "stream",
     "text": [
      "Model: \"tinout_model\"\n",
      "_________________________________________________________________\n",
      "Layer (type)                 Output Shape              Param #   \n",
      "=================================================================\n",
      "dense_4 (Dense)              multiple                  176       \n",
      "_________________________________________________________________\n",
      "dense_5 (Dense)              multiple                  272       \n",
      "_________________________________________________________________\n",
      "dense_6 (Dense)              multiple                  17        \n",
      "_________________________________________________________________\n",
      "dense_7 (Dense)              multiple                  27        \n",
      "=================================================================\n",
      "Total params: 492\n",
      "Trainable params: 492\n",
      "Non-trainable params: 0\n",
      "_________________________________________________________________\n"
     ]
    }
   ],
   "source": [
    "model.summary()"
   ]
  },
  {
   "cell_type": "code",
   "execution_count": 14,
   "metadata": {},
   "outputs": [
    {
     "data": {
      "image/png": "[encoded data removed]",
      "text/plain": [
       "<IPython.core.display.Image object>"
      ]
     },
     "execution_count": 14,
     "metadata": {},
     "output_type": "execute_result"
    }
   ],
   "source": [
    "plot_model(model,show_shapes=True)"
   ]
  }
 ],
 "metadata": {
  "kernelspec": {
   "display_name": "Python 3",
   "language": "python",
   "name": "python3"
  },
  "language_info": {
   "codemirror_mode": {
    "name": "ipython",
    "version": 3
   },
   "file_extension": ".py",
   "mimetype": "text/x-python",
   "name": "python",
   "nbconvert_exporter": "python",
   "pygments_lexer": "ipython3",
   "version": "3.8.3"
  }
 },
 "nbformat": 4,
 "nbformat_minor": 4
}
