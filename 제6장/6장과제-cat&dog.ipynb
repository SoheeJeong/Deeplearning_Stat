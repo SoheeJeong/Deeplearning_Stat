{
 "cells": [
  {
   "cell_type": "markdown",
   "metadata": {},
   "source": [
    "## Task2. Cat vs Dog"
   ]
  },
  {
   "cell_type": "markdown",
   "metadata": {},
   "source": [
    "directory 정의"
   ]
  },
  {
   "cell_type": "code",
   "execution_count": 1,
   "metadata": {},
   "outputs": [],
   "source": [
    "import os, shutil\n",
    "\n",
    "#최초 1번만 수행\n",
    "original_data_dir='D:/deepdata/all_dogs_cats'\n",
    "base_dir='D:/deepdata/dogs and cats_small1'# original_data_dir로부터 일부 데이터를 추출하여 base_dir에 저장하기 위해 만듬\n",
    "#os.mkdir(base_dir)\n",
    "\n",
    "train_dir=os.path.join(base_dir,'train')#dog_cats_small폴더내에 train폴더 생성\n",
    "#os.mkdir(train_dir)\n",
    "\n",
    "validation_dir=os.path.join(base_dir,'validation')#dog_cats_small폴더내에 validation폴더 생성\n",
    "#os.mkdir(validation_dir)\n",
    "\n",
    "test_dir=os.path.join(base_dir,'test')#dog_cats_small폴더내에 test폴더 생성\n",
    "#os.mkdir(test_dir)\n",
    "\n",
    "train_cats_dir=os.path.join(train_dir,'cats')#train폴더내에 cats폴더 생성\n",
    "#os.mkdir(train_cats_dir)\n",
    "\n",
    "train_dogs_dir=os.path.join(train_dir,'dogs')#train폴더내에 dogs폴더 생성\n",
    "#os.mkdir(train_dogs_dir)\n",
    "\n",
    "validation_cats_dir=os.path.join(validation_dir,'cats')#validation폴더내에 cats폴더 생성\n",
    "#os.mkdir(validation_cats_dir)\n",
    "\n",
    "validation_dogs_dir=os.path.join(validation_dir,'dogs')#validation폴더내에 dogs폴더 생성\n",
    "#os.mkdir(validation_dogs_dir)\n",
    "\n",
    "test_cats_dir=os.path.join(test_dir,'cats')#test폴더내에 cats폴더 생성\n",
    "#os.mkdir(test_cats_dir)\n",
    "\n",
    "test_dogs_dir=os.path.join(test_dir,'dogs')#test폴더내에 dogs폴더 생성\n",
    "#os.mkdir(test_dogs_dir)"
   ]
  },
  {
   "cell_type": "code",
   "execution_count": 2,
   "metadata": {
    "scrolled": true
   },
   "outputs": [
    {
     "name": "stdout",
     "output_type": "stream",
     "text": [
      "1000\n",
      "1000\n",
      "500\n",
      "500\n",
      "500\n",
      "500\n"
     ]
    }
   ],
   "source": [
    "print(len(os.listdir(train_cats_dir)));print(len(os.listdir(train_dogs_dir)))\n",
    "print(len(os.listdir(validation_cats_dir)));print(len(os.listdir(validation_dogs_dir)))\n",
    "print(len(os.listdir(test_cats_dir)));print(len(os.listdir(test_dogs_dir)))"
   ]
  },
  {
   "cell_type": "markdown",
   "metadata": {},
   "source": [
    "### 1) Basic CNN model"
   ]
  },
  {
   "cell_type": "code",
   "execution_count": 3,
   "metadata": {},
   "outputs": [
    {
     "name": "stdout",
     "output_type": "stream",
     "text": [
      "Found 2000 images belonging to 2 classes.\n",
      "Found 1000 images belonging to 2 classes.\n",
      "(20, 150, 150, 3)\n",
      "(20,)\n"
     ]
    }
   ],
   "source": [
    "from tensorflow.keras.preprocessing.image import ImageDataGenerator\n",
    "\n",
    "#255로 나눠서 객체화\n",
    "train_datagen=ImageDataGenerator(rescale=1./255) \n",
    "test_datagen=ImageDataGenerator(rescale=1./255)\n",
    "\n",
    "# flow_from_directory: directory data를 읽음 - cf) flow_from_dataframe 도 있음\n",
    "# target size 조절, batch size 지정, class mode는 y data를 어떻게 바꿀지. sparse,none(=regression),...\n",
    "# x:(20,150,150,3),y:(20,1) 로 generate 됨\n",
    "train_generator=train_datagen.flow_from_directory(directory=train_dir,target_size=(150,150),batch_size=20,class_mode='binary')\n",
    "validation_generator=test_datagen.flow_from_directory(directory=validation_dir,target_size=(150,150),batch_size=20,class_mode='binary')\n",
    "\n",
    "for x,y in train_generator:\n",
    "    print(x.shape)\n",
    "    print(y.shape)\n",
    "    break"
   ]
  },
  {
   "cell_type": "markdown",
   "metadata": {},
   "source": [
    "model"
   ]
  },
  {
   "cell_type": "code",
   "execution_count": 4,
   "metadata": {},
   "outputs": [
    {
     "name": "stdout",
     "output_type": "stream",
     "text": [
      "Model: \"sequential\"\n",
      "_________________________________________________________________\n",
      "Layer (type)                 Output Shape              Param #   \n",
      "=================================================================\n",
      "conv2d (Conv2D)              (None, 148, 148, 32)      896       \n",
      "_________________________________________________________________\n",
      "max_pooling2d (MaxPooling2D) (None, 74, 74, 32)        0         \n",
      "_________________________________________________________________\n",
      "conv2d_1 (Conv2D)            (None, 72, 72, 64)        18496     \n",
      "_________________________________________________________________\n",
      "max_pooling2d_1 (MaxPooling2 (None, 36, 36, 64)        0         \n",
      "_________________________________________________________________\n",
      "conv2d_2 (Conv2D)            (None, 34, 34, 128)       73856     \n",
      "_________________________________________________________________\n",
      "max_pooling2d_2 (MaxPooling2 (None, 17, 17, 128)       0         \n",
      "_________________________________________________________________\n",
      "flatten (Flatten)            (None, 36992)             0         \n",
      "_________________________________________________________________\n",
      "dense (Dense)                (None, 512)               18940416  \n",
      "_________________________________________________________________\n",
      "dense_1 (Dense)              (None, 1)                 513       \n",
      "=================================================================\n",
      "Total params: 19,034,177\n",
      "Trainable params: 19,034,177\n",
      "Non-trainable params: 0\n",
      "_________________________________________________________________\n"
     ]
    }
   ],
   "source": [
    "from tensorflow.keras.layers import Conv2D,MaxPooling2D,Flatten,Dense\n",
    "from tensorflow.keras import models\n",
    "\n",
    "cat_dog_model=models.Sequential()\n",
    "#train_generator에서 target_size=(150,150)으로 하였고 color_mode의 default는 'rgb'이므로 input_shape=(150,150,3)으로 지정함\n",
    "cat_dog_model.add(Conv2D(32,(3,3),activation='relu',input_shape=(150,150,3)))\n",
    "cat_dog_model.add(MaxPooling2D(2,2))\n",
    "cat_dog_model.add(Conv2D(64,(3,3),activation='relu'))\n",
    "cat_dog_model.add(MaxPooling2D(2,2))\n",
    "cat_dog_model.add(Conv2D(128,(3,3),activation='relu'))\n",
    "cat_dog_model.add(MaxPooling2D(2,2))\n",
    "cat_dog_model.add(Flatten())\n",
    "cat_dog_model.add(Dense(512,activation='relu'))\n",
    "cat_dog_model.add(Dense(1,activation='sigmoid'))\n",
    "cat_dog_model.summary()"
   ]
  },
  {
   "cell_type": "markdown",
   "metadata": {},
   "source": [
    "compile, fit"
   ]
  },
  {
   "cell_type": "code",
   "execution_count": 5,
   "metadata": {},
   "outputs": [
    {
     "name": "stderr",
     "output_type": "stream",
     "text": [
      "D:\\anaconda3\\lib\\site-packages\\tensorflow\\python\\keras\\engine\\training.py:1844: UserWarning: `Model.fit_generator` is deprecated and will be removed in a future version. Please use `Model.fit`, which supports generators.\n",
      "  warnings.warn('`Model.fit_generator` is deprecated and '\n"
     ]
    },
    {
     "name": "stdout",
     "output_type": "stream",
     "text": [
      "Epoch 1/10\n",
      "50/50 [==============================] - 96s 2s/step - loss: 0.7314 - acc: 0.5153 - val_loss: 0.7130 - val_acc: 0.5000\n",
      "Epoch 2/10\n",
      "50/50 [==============================] - 71s 1s/step - loss: 0.6727 - acc: 0.5920 - val_loss: 0.6493 - val_acc: 0.6140\n",
      "Epoch 3/10\n",
      "50/50 [==============================] - 73s 1s/step - loss: 0.6398 - acc: 0.6296 - val_loss: 0.6196 - val_acc: 0.6720\n",
      "Epoch 4/10\n",
      "50/50 [==============================] - 74s 1s/step - loss: 0.5974 - acc: 0.6729 - val_loss: 0.6469 - val_acc: 0.6310\n",
      "Epoch 5/10\n",
      "50/50 [==============================] - 77s 2s/step - loss: 0.5652 - acc: 0.7201 - val_loss: 0.6138 - val_acc: 0.6690\n",
      "Epoch 6/10\n",
      "50/50 [==============================] - 74s 1s/step - loss: 0.5423 - acc: 0.7249 - val_loss: 0.6339 - val_acc: 0.6440\n",
      "Epoch 7/10\n",
      "50/50 [==============================] - 71s 1s/step - loss: 0.5216 - acc: 0.7412 - val_loss: 0.5917 - val_acc: 0.6740\n",
      "Epoch 8/10\n",
      "50/50 [==============================] - 73s 1s/step - loss: 0.4920 - acc: 0.7696 - val_loss: 0.6449 - val_acc: 0.6450\n",
      "Epoch 9/10\n",
      "50/50 [==============================] - 75s 1s/step - loss: 0.4320 - acc: 0.8160 - val_loss: 0.6261 - val_acc: 0.6430\n",
      "Epoch 10/10\n",
      "50/50 [==============================] - 77s 2s/step - loss: 0.4342 - acc: 0.7970 - val_loss: 0.5854 - val_acc: 0.6830\n"
     ]
    }
   ],
   "source": [
    "from tensorflow.keras import optimizers\n",
    "opt=optimizers.RMSprop(lr=1e-4)\n",
    "cat_dog_model.compile(loss='binary_crossentropy', optimizer=opt,metrics=['acc'])\n",
    "cat_dog_result = cat_dog_model.fit_generator(\n",
    "    train_generator,steps_per_epoch=50,epochs=10,\n",
    "    validation_data=validation_generator,validation_steps=50 )"
   ]
  },
  {
   "cell_type": "markdown",
   "metadata": {},
   "source": [
    "graph"
   ]
  },
  {
   "cell_type": "code",
   "execution_count": 6,
   "metadata": {},
   "outputs": [
    {
     "data": {
      "image/png": "[encoded data removed]",
      "text/plain": [
       "<Figure size 432x288 with 1 Axes>"
      ]
     },
     "metadata": {
      "needs_background": "light"
     },
     "output_type": "display_data"
    },
    {
     "data": {
      "image/png": "[encoded data removed]",
      "text/plain": [
       "<Figure size 432x288 with 1 Axes>"
      ]
     },
     "metadata": {
      "needs_background": "light"
     },
     "output_type": "display_data"
    }
   ],
   "source": [
    "import matplotlib.pyplot as plt\n",
    "acc=cat_dog_result.history['acc']\n",
    "val_acc=cat_dog_result.history['val_acc']\n",
    "loss=cat_dog_result.history['loss']\n",
    "val_loss=cat_dog_result.history['val_loss']\n",
    "epochs=range(1,len(acc)+1)\n",
    "plt.plot(epochs,acc,'b',label='training acc')\n",
    "plt.plot(epochs,val_acc,'bo',label='validation acc')\n",
    "plt.title('training and validation accuracy')\n",
    "plt.legend()\n",
    "plt.figure()\n",
    "plt.plot(epochs,loss,'b',label='training loss')\n",
    "plt.plot(epochs,val_loss,'bo',label='validation loss')\n",
    "plt.title('training and validation loss')\n",
    "plt.legend()\n",
    "plt.show()"
   ]
  },
  {
   "cell_type": "markdown",
   "metadata": {},
   "source": [
    "evaluate"
   ]
  },
  {
   "cell_type": "code",
   "execution_count": 7,
   "metadata": {
    "scrolled": true
   },
   "outputs": [
    {
     "name": "stdout",
     "output_type": "stream",
     "text": [
      "Found 1000 images belonging to 2 classes.\n"
     ]
    },
    {
     "name": "stderr",
     "output_type": "stream",
     "text": [
      "D:\\anaconda3\\lib\\site-packages\\tensorflow\\python\\keras\\engine\\training.py:1877: UserWarning: `Model.evaluate_generator` is deprecated and will be removed in a future version. Please use `Model.evaluate`, which supports generators.\n",
      "  warnings.warn('`Model.evaluate_generator` is deprecated and '\n"
     ]
    },
    {
     "name": "stdout",
     "output_type": "stream",
     "text": [
      "0.5843579769134521\n",
      "0.6830000281333923\n"
     ]
    }
   ],
   "source": [
    "test_datagen=ImageDataGenerator(rescale=1./255)\n",
    "test_generator=test_datagen.flow_from_directory(test_dir,target_size=(150,150),\n",
    "                                              batch_size=20, class_mode='binary')\n",
    "loss, acc=cat_dog_model.evaluate(test_generator,steps=50)\n",
    "print(loss)\n",
    "print(acc)"
   ]
  },
  {
   "cell_type": "markdown",
   "metadata": {},
   "source": [
    "* 해당 모델에서 train loss는 0에 수렴해 가지만 validation loss는 일부 증가하고 noise가 큰 것으로 보아 과대적합이 발생하고 있음을 알 수 있다.  \n",
    "* 이는 매우 큰 수의 모수를 단 2000여개의 표본으로 학습했기 때문이다.\n",
    "* 다음에서는 train data를 늘려서 overfitting을 줄여본다."
   ]
  },
  {
   "cell_type": "markdown",
   "metadata": {},
   "source": [
    "### 2) Image 를 늘려서 적용\n",
    "* overfitting을 해결하는 방법 중 하나는 데이터의 크기를 늘리는 것이다. \n",
    "* 그 수단으로 ImageDataGenerator를 사용해 train data를 rorate, shift, shear, flip 시켜 data의 size를 늘려 본다."
   ]
  },
  {
   "cell_type": "markdown",
   "metadata": {},
   "source": [
    "data"
   ]
  },
  {
   "cell_type": "code",
   "execution_count": 28,
   "metadata": {},
   "outputs": [
    {
     "name": "stdout",
     "output_type": "stream",
     "text": [
      "Found 2000 images belonging to 2 classes.\n",
      "Found 1000 images belonging to 2 classes.\n"
     ]
    }
   ],
   "source": [
    "train_datagen=ImageDataGenerator(rescale=1./255,rotation_range=30, width_shift_range=0.2,\n",
    "                               height_shift_range=0.2, shear_range=0.2, zoom_range=0.2,\n",
    "                                horizontal_flip=True, fill_mode='nearest')\n",
    "validation_datagen=ImageDataGenerator(rescale=1./255) #validation data는 그대로\n",
    "\n",
    "train_generator=train_datagen.flow_from_directory(train_dir,target_size=(150,150),\n",
    "                                              batch_size=32, class_mode='binary')\n",
    "validation_generator=validation_datagen.flow_from_directory(validation_dir,target_size=(150,150),\n",
    "                                              batch_size=32, class_mode='binary')"
   ]
  },
  {
   "cell_type": "markdown",
   "metadata": {},
   "source": [
    "model"
   ]
  },
  {
   "cell_type": "code",
   "execution_count": 29,
   "metadata": {},
   "outputs": [
    {
     "name": "stdout",
     "output_type": "stream",
     "text": [
      "Model: \"sequential_6\"\n",
      "_________________________________________________________________\n",
      "Layer (type)                 Output Shape              Param #   \n",
      "=================================================================\n",
      "conv2d_12 (Conv2D)           (None, 148, 148, 32)      896       \n",
      "_________________________________________________________________\n",
      "max_pooling2d_12 (MaxPooling (None, 74, 74, 32)        0         \n",
      "_________________________________________________________________\n",
      "conv2d_13 (Conv2D)           (None, 72, 72, 64)        18496     \n",
      "_________________________________________________________________\n",
      "max_pooling2d_13 (MaxPooling (None, 36, 36, 64)        0         \n",
      "_________________________________________________________________\n",
      "conv2d_14 (Conv2D)           (None, 34, 34, 128)       73856     \n",
      "_________________________________________________________________\n",
      "max_pooling2d_14 (MaxPooling (None, 17, 17, 128)       0         \n",
      "_________________________________________________________________\n",
      "flatten_5 (Flatten)          (None, 36992)             0         \n",
      "_________________________________________________________________\n",
      "dropout_6 (Dropout)          (None, 36992)             0         \n",
      "_________________________________________________________________\n",
      "dense_10 (Dense)             (None, 512)               18940416  \n",
      "_________________________________________________________________\n",
      "dense_11 (Dense)             (None, 1)                 513       \n",
      "=================================================================\n",
      "Total params: 19,034,177\n",
      "Trainable params: 19,034,177\n",
      "Non-trainable params: 0\n",
      "_________________________________________________________________\n"
     ]
    }
   ],
   "source": [
    "from tensorflow.keras.layers import Conv2D,MaxPooling2D,Flatten,Dense, Dropout\n",
    "from tensorflow.keras import models\n",
    "\n",
    "aug_model=models.Sequential()\n",
    "aug_model.add(Conv2D(32,(3,3),activation='relu',input_shape=(150,150,3)))\n",
    "aug_model.add(MaxPooling2D(2,2))\n",
    "aug_model.add(Conv2D(64,(3,3),activation='relu'))\n",
    "aug_model.add(MaxPooling2D(2,2))\n",
    "aug_model.add(Conv2D(128,(3,3),activation='relu'))\n",
    "aug_model.add(MaxPooling2D(2,2))\n",
    "aug_model.add(Flatten())\n",
    "aug_model.add(Dropout(0.5))\n",
    "aug_model.add(Dense(512,activation='relu'))\n",
    "aug_model.add(Dense(1,activation='sigmoid'))\n",
    "aug_model.summary()"
   ]
  },
  {
   "cell_type": "markdown",
   "metadata": {},
   "source": [
    "compile, fit"
   ]
  },
  {
   "cell_type": "code",
   "execution_count": 30,
   "metadata": {},
   "outputs": [
    {
     "name": "stdout",
     "output_type": "stream",
     "text": [
      "Epoch 1/30\n",
      "62/62 [==============================] - 149s 2s/step - loss: 0.8331 - acc: 0.4987 - val_loss: 0.6879 - val_acc: 0.5353\n",
      "Epoch 2/30\n",
      "62/62 [==============================] - 103s 2s/step - loss: 0.6840 - acc: 0.5551 - val_loss: 0.6628 - val_acc: 0.5887\n",
      "Epoch 3/30\n",
      "62/62 [==============================] - 138s 2s/step - loss: 0.6672 - acc: 0.5875 - val_loss: 0.6548 - val_acc: 0.6048\n",
      "Epoch 4/30\n",
      "62/62 [==============================] - 136s 2s/step - loss: 0.6634 - acc: 0.6062 - val_loss: 0.6580 - val_acc: 0.5817\n",
      "Epoch 5/30\n",
      "62/62 [==============================] - 114s 2s/step - loss: 0.6441 - acc: 0.6027 - val_loss: 0.6253 - val_acc: 0.6300\n",
      "Epoch 6/30\n",
      "62/62 [==============================] - 87s 1s/step - loss: 0.6317 - acc: 0.6347 - val_loss: 0.6007 - val_acc: 0.6734\n",
      "Epoch 7/30\n",
      "62/62 [==============================] - 76s 1s/step - loss: 0.6172 - acc: 0.6412 - val_loss: 0.6951 - val_acc: 0.5877\n",
      "Epoch 8/30\n",
      "62/62 [==============================] - 76s 1s/step - loss: 0.6259 - acc: 0.6500 - val_loss: 0.6089 - val_acc: 0.6673\n",
      "Epoch 9/30\n",
      "62/62 [==============================] - 75s 1s/step - loss: 0.6064 - acc: 0.6655 - val_loss: 0.5623 - val_acc: 0.7036\n",
      "Epoch 10/30\n",
      "62/62 [==============================] - 78s 1s/step - loss: 0.6043 - acc: 0.6822 - val_loss: 0.7360 - val_acc: 0.5806\n",
      "Epoch 11/30\n",
      "62/62 [==============================] - 76s 1s/step - loss: 0.5978 - acc: 0.6650 - val_loss: 0.5843 - val_acc: 0.6905\n",
      "Epoch 12/30\n",
      "62/62 [==============================] - 83s 1s/step - loss: 0.5826 - acc: 0.6750 - val_loss: 0.5544 - val_acc: 0.7177\n",
      "Epoch 13/30\n",
      "62/62 [==============================] - 83s 1s/step - loss: 0.5904 - acc: 0.6759 - val_loss: 0.5360 - val_acc: 0.7208\n",
      "Epoch 14/30\n",
      "62/62 [==============================] - 96s 2s/step - loss: 0.5907 - acc: 0.6658 - val_loss: 0.5634 - val_acc: 0.6946\n",
      "Epoch 15/30\n",
      "62/62 [==============================] - 94s 2s/step - loss: 0.5861 - acc: 0.6830 - val_loss: 0.5427 - val_acc: 0.7167\n",
      "Epoch 16/30\n",
      "62/62 [==============================] - 86s 1s/step - loss: 0.5591 - acc: 0.7069 - val_loss: 0.5291 - val_acc: 0.7298\n",
      "Epoch 17/30\n",
      "62/62 [==============================] - 85s 1s/step - loss: 0.5540 - acc: 0.7109 - val_loss: 0.5331 - val_acc: 0.7177\n",
      "Epoch 18/30\n",
      "62/62 [==============================] - 85s 1s/step - loss: 0.5764 - acc: 0.6908 - val_loss: 0.5156 - val_acc: 0.7298\n",
      "Epoch 19/30\n",
      "62/62 [==============================] - 81s 1s/step - loss: 0.5537 - acc: 0.7230 - val_loss: 0.5906 - val_acc: 0.7036\n",
      "Epoch 20/30\n",
      "62/62 [==============================] - 81s 1s/step - loss: 0.5632 - acc: 0.7106 - val_loss: 0.5071 - val_acc: 0.7359\n",
      "Epoch 21/30\n",
      "62/62 [==============================] - 82s 1s/step - loss: 0.5522 - acc: 0.7238 - val_loss: 0.5128 - val_acc: 0.7450\n",
      "Epoch 22/30\n",
      "62/62 [==============================] - 85s 1s/step - loss: 0.5404 - acc: 0.7317 - val_loss: 0.4971 - val_acc: 0.7419\n",
      "Epoch 23/30\n",
      "62/62 [==============================] - 80s 1s/step - loss: 0.5485 - acc: 0.7174 - val_loss: 0.5032 - val_acc: 0.7409\n",
      "Epoch 24/30\n",
      "62/62 [==============================] - 79s 1s/step - loss: 0.5289 - acc: 0.7419 - val_loss: 0.4911 - val_acc: 0.7510\n",
      "Epoch 25/30\n",
      "62/62 [==============================] - 79s 1s/step - loss: 0.5186 - acc: 0.7422 - val_loss: 0.5042 - val_acc: 0.7409\n"
     ]
    }
   ],
   "source": [
    "from tensorflow.keras import optimizers\n",
    "from tensorflow.keras.callbacks import EarlyStopping,ModelCheckpoint\n",
    "callback_list = [EarlyStopping(monitor='acc',patience=3)]\n",
    "\n",
    "aug_model.compile(loss='binary_crossentropy', optimizer=optimizers.RMSprop(lr=1e-4),metrics=['acc'])\n",
    "aug_result = aug_model.fit_generator(\n",
    "    train_generator,steps_per_epoch=62,epochs=30,\n",
    "    validation_data=validation_generator,validation_steps=31,callbacks=callback_list)"
   ]
  },
  {
   "cell_type": "markdown",
   "metadata": {},
   "source": [
    "graph"
   ]
  },
  {
   "cell_type": "code",
   "execution_count": 31,
   "metadata": {},
   "outputs": [
    {
     "data": {
      "image/png": "[encoded data removed]",
      "text/plain": [
       "<Figure size 432x288 with 1 Axes>"
      ]
     },
     "metadata": {
      "needs_background": "light"
     },
     "output_type": "display_data"
    },
    {
     "data": {
      "image/png": "[encoded data removed]",
      "text/plain": [
       "<Figure size 432x288 with 1 Axes>"
      ]
     },
     "metadata": {
      "needs_background": "light"
     },
     "output_type": "display_data"
    }
   ],
   "source": [
    "import matplotlib.pyplot as plt\n",
    "acc=aug_result.history['acc']\n",
    "val_acc=aug_result.history['val_acc']\n",
    "loss=aug_result.history['loss']\n",
    "val_loss=aug_result.history['val_loss']\n",
    "epochs=range(1,len(acc)+1)\n",
    "plt.plot(epochs,acc,'b',label='training acc')\n",
    "plt.plot(epochs,val_acc,'bo',label='validation acc')\n",
    "plt.title('training and validation accuracy')\n",
    "plt.legend()\n",
    "plt.figure()\n",
    "plt.plot(epochs,loss,'b',label='training loss')\n",
    "plt.plot(epochs,val_loss,'bo',label='validation loss')\n",
    "plt.title('training and validation loss')\n",
    "plt.legend()\n",
    "plt.show()"
   ]
  },
  {
   "cell_type": "markdown",
   "metadata": {},
   "source": [
    "test_datagen 을 통해 evaluate"
   ]
  },
  {
   "cell_type": "code",
   "execution_count": 32,
   "metadata": {
    "scrolled": false
   },
   "outputs": [
    {
     "name": "stdout",
     "output_type": "stream",
     "text": [
      "Found 1000 images belonging to 2 classes.\n",
      "0.5543972253799438\n",
      "0.7210000157356262\n"
     ]
    }
   ],
   "source": [
    "test_datagen=ImageDataGenerator(rescale=1./255)\n",
    "test_generator=test_datagen.flow_from_directory(test_dir,target_size=(150,150),\n",
    "                                              batch_size=20, class_mode='binary')\n",
    "loss, acc=aug_model.evaluate(test_generator,steps=50)\n",
    "print(loss)\n",
    "print(acc)"
   ]
  },
  {
   "cell_type": "markdown",
   "metadata": {},
   "source": [
    "* 자료증대를 적용하지 않았을 때와 비교해, 자료증대를 적용했을 때 \n",
    "    * train data와 validaton data의 loss가 같이 감소하고, validaton loss가 train loss보다 작은 양상을 유지하는 것으로 보아 overfitting 은 어느정도 해결되었 고, accuracy는 조금 증가했다. (0.68  ->0.71) \n",
    "    * 하지만 아직 noise가 크다. \n",
    "* 다음에는 모수 초기치 부여, 규제화 적용, batchnormalization, dropout 의 기법을 종합적으로 적용해 정확도를 높이고 noise를 줄여본다. "
   ]
  },
  {
   "cell_type": "markdown",
   "metadata": {},
   "source": [
    "### 3) Image Augmentation + 모수 초기치 부여, 규제화 적용, batchnormalization, dropout 의 기법\n",
    "model2"
   ]
  },
  {
   "cell_type": "code",
   "execution_count": 33,
   "metadata": {},
   "outputs": [
    {
     "name": "stdout",
     "output_type": "stream",
     "text": [
      "Model: \"sequential_7\"\n",
      "_________________________________________________________________\n",
      "Layer (type)                 Output Shape              Param #   \n",
      "=================================================================\n",
      "conv2d_15 (Conv2D)           (None, 148, 148, 32)      896       \n",
      "_________________________________________________________________\n",
      "batch_normalization_3 (Batch (None, 148, 148, 32)      128       \n",
      "_________________________________________________________________\n",
      "max_pooling2d_15 (MaxPooling (None, 74, 74, 32)        0         \n",
      "_________________________________________________________________\n",
      "dropout_7 (Dropout)          (None, 74, 74, 32)        0         \n",
      "_________________________________________________________________\n",
      "conv2d_16 (Conv2D)           (None, 72, 72, 64)        18496     \n",
      "_________________________________________________________________\n",
      "batch_normalization_4 (Batch (None, 72, 72, 64)        256       \n",
      "_________________________________________________________________\n",
      "max_pooling2d_16 (MaxPooling (None, 36, 36, 64)        0         \n",
      "_________________________________________________________________\n",
      "dropout_8 (Dropout)          (None, 36, 36, 64)        0         \n",
      "_________________________________________________________________\n",
      "conv2d_17 (Conv2D)           (None, 34, 34, 128)       73856     \n",
      "_________________________________________________________________\n",
      "batch_normalization_5 (Batch (None, 34, 34, 128)       512       \n",
      "_________________________________________________________________\n",
      "max_pooling2d_17 (MaxPooling (None, 17, 17, 128)       0         \n",
      "_________________________________________________________________\n",
      "dropout_9 (Dropout)          (None, 17, 17, 128)       0         \n",
      "_________________________________________________________________\n",
      "flatten_6 (Flatten)          (None, 36992)             0         \n",
      "_________________________________________________________________\n",
      "dropout_10 (Dropout)         (None, 36992)             0         \n",
      "_________________________________________________________________\n",
      "dense_12 (Dense)             (None, 512)               18940416  \n",
      "_________________________________________________________________\n",
      "dense_13 (Dense)             (None, 1)                 513       \n",
      "=================================================================\n",
      "Total params: 19,035,073\n",
      "Trainable params: 19,034,625\n",
      "Non-trainable params: 448\n",
      "_________________________________________________________________\n"
     ]
    }
   ],
   "source": [
    "from tensorflow.keras.layers import Conv2D,MaxPooling2D,Flatten,Dense, Dropout,BatchNormalization\n",
    "from tensorflow.keras import models\n",
    "\n",
    "aug_model2=models.Sequential()\n",
    "aug_model2.add(Conv2D(32,(3,3),activation='relu',input_shape=(150,150,3),kernel_initializer='he_normal'))\n",
    "aug_model2.add(BatchNormalization(momentum=0.9)) #batchnorm\n",
    "aug_model2.add(MaxPooling2D(2,2))\n",
    "aug_model2.add(Dropout(0.3))\n",
    "\n",
    "aug_model2.add(Conv2D(64,(3,3),activation='relu',kernel_initializer='he_normal'))\n",
    "aug_model2.add(BatchNormalization(momentum=0.9)) #batchnorm\n",
    "aug_model2.add(MaxPooling2D(2,2))\n",
    "aug_model2.add(Dropout(0.3))\n",
    "\n",
    "aug_model2.add(Conv2D(128,(3,3),activation='relu',kernel_initializer='he_normal'))\n",
    "aug_model2.add(BatchNormalization(momentum=0.9)) #batchnorm\n",
    "aug_model2.add(MaxPooling2D(2,2))\n",
    "aug_model2.add(Dropout(0.3))\n",
    "\n",
    "aug_model2.add(Flatten())\n",
    "aug_model2.add(Dropout(0.3))\n",
    "aug_model2.add(Dense(512,activation='relu',kernel_initializer='he_normal'))\n",
    "aug_model2.add(Dense(1,activation='sigmoid',kernel_regularizer='l1'))\n",
    "aug_model2.summary()"
   ]
  },
  {
   "cell_type": "markdown",
   "metadata": {},
   "source": [
    "compile, fit"
   ]
  },
  {
   "cell_type": "code",
   "execution_count": 34,
   "metadata": {},
   "outputs": [
    {
     "name": "stdout",
     "output_type": "stream",
     "text": [
      "Epoch 1/40\n",
      "62/62 [==============================] - 143s 2s/step - loss: 3.2603 - acc: 0.5191 - val_loss: 1.1415 - val_acc: 0.6069\n",
      "Epoch 2/40\n",
      "62/62 [==============================] - 140s 2s/step - loss: 1.0111 - acc: 0.5782 - val_loss: 1.1413 - val_acc: 0.6028\n",
      "Epoch 3/40\n",
      "62/62 [==============================] - 151s 2s/step - loss: 0.9524 - acc: 0.6125 - val_loss: 1.1140 - val_acc: 0.6341\n",
      "Epoch 4/40\n",
      "62/62 [==============================] - 155s 2s/step - loss: 0.9173 - acc: 0.6163 - val_loss: 1.0681 - val_acc: 0.6391\n",
      "Epoch 5/40\n",
      "62/62 [==============================] - 149s 2s/step - loss: 0.8864 - acc: 0.6232 - val_loss: 0.9930 - val_acc: 0.6714\n",
      "Epoch 6/40\n",
      "62/62 [==============================] - 143s 2s/step - loss: 0.8534 - acc: 0.6407 - val_loss: 0.9797 - val_acc: 0.6583\n",
      "Epoch 7/40\n",
      "62/62 [==============================] - 142s 2s/step - loss: 0.8191 - acc: 0.6574 - val_loss: 0.9747 - val_acc: 0.6875\n",
      "Epoch 8/40\n",
      "62/62 [==============================] - 148s 2s/step - loss: 0.7963 - acc: 0.6520 - val_loss: 0.9578 - val_acc: 0.6774\n",
      "Epoch 9/40\n",
      "62/62 [==============================] - 150s 2s/step - loss: 0.7732 - acc: 0.6797 - val_loss: 0.9253 - val_acc: 0.6935\n",
      "Epoch 10/40\n",
      "62/62 [==============================] - 150s 2s/step - loss: 0.7781 - acc: 0.6545 - val_loss: 0.9219 - val_acc: 0.6835\n",
      "Epoch 11/40\n",
      "62/62 [==============================] - 151s 2s/step - loss: 0.7414 - acc: 0.6792 - val_loss: 0.9029 - val_acc: 0.6915\n",
      "Epoch 12/40\n",
      "62/62 [==============================] - 153s 2s/step - loss: 0.7307 - acc: 0.6652 - val_loss: 0.8427 - val_acc: 0.7067\n",
      "Epoch 13/40\n",
      "62/62 [==============================] - 161s 3s/step - loss: 0.7115 - acc: 0.6682 - val_loss: 0.8722 - val_acc: 0.7006\n",
      "Epoch 14/40\n",
      "62/62 [==============================] - 155s 2s/step - loss: 0.6915 - acc: 0.6809 - val_loss: 0.8774 - val_acc: 0.6976\n"
     ]
    }
   ],
   "source": [
    "from tensorflow.keras import optimizers\n",
    "from tensorflow.keras.callbacks import EarlyStopping,ModelCheckpoint\n",
    "callback_list = [EarlyStopping(monitor='acc',patience=3)]\n",
    "\n",
    "aug_model2.compile(loss='binary_crossentropy', optimizer=optimizers.RMSprop(lr=1e-4),metrics=['acc'])\n",
    "aug_result2 = aug_model2.fit_generator(\n",
    "    train_generator,steps_per_epoch=62,epochs=40,\n",
    "    validation_data=validation_generator,validation_steps=31,callbacks=callback_list)"
   ]
  },
  {
   "cell_type": "markdown",
   "metadata": {},
   "source": [
    "graph"
   ]
  },
  {
   "cell_type": "code",
   "execution_count": 35,
   "metadata": {},
   "outputs": [
    {
     "data": {
      "image/png": "[encoded data removed]",
      "text/plain": [
       "<Figure size 432x288 with 1 Axes>"
      ]
     },
     "metadata": {
      "needs_background": "light"
     },
     "output_type": "display_data"
    },
    {
     "data": {
      "image/png": "[encoded data removed]",
      "text/plain": [
       "<Figure size 432x288 with 1 Axes>"
      ]
     },
     "metadata": {
      "needs_background": "light"
     },
     "output_type": "display_data"
    }
   ],
   "source": [
    "import matplotlib.pyplot as plt\n",
    "acc=aug_result2.history['acc']\n",
    "val_acc=aug_result2.history['val_acc']\n",
    "loss=aug_result2.history['loss']\n",
    "val_loss=aug_result2.history['val_loss']\n",
    "epochs=range(1,len(acc)+1)\n",
    "plt.plot(epochs,acc,'b',label='training acc')\n",
    "plt.plot(epochs,val_acc,'bo',label='validation acc')\n",
    "plt.title('training and validation accuracy')\n",
    "plt.legend()\n",
    "plt.figure()\n",
    "plt.plot(epochs,loss,'b',label='training loss')\n",
    "plt.plot(epochs,val_loss,'bo',label='validation loss')\n",
    "plt.title('training and validation loss')\n",
    "plt.legend()\n",
    "plt.show()"
   ]
  },
  {
   "cell_type": "markdown",
   "metadata": {},
   "source": [
    "test_datagen 을 통해 evaluate"
   ]
  },
  {
   "cell_type": "code",
   "execution_count": 36,
   "metadata": {
    "scrolled": false
   },
   "outputs": [
    {
     "name": "stdout",
     "output_type": "stream",
     "text": [
      "Found 1000 images belonging to 2 classes.\n",
      "0.8969117999076843\n",
      "0.6899999976158142\n"
     ]
    }
   ],
   "source": [
    "test_datagen=ImageDataGenerator(rescale=1./255)\n",
    "test_generator=test_datagen.flow_from_directory(test_dir,target_size=(150,150),\n",
    "                                              batch_size=20, class_mode='binary')\n",
    "loss, acc=aug_model2.evaluate_generator(test_generator,steps=50)\n",
    "print(loss)\n",
    "print(acc)"
   ]
  },
  {
   "cell_type": "markdown",
   "metadata": {},
   "source": [
    " herefixhere#"
   ]
  },
  {
   "cell_type": "markdown",
   "metadata": {},
   "source": [
    "### 4) Fine Tuning을 적용\n",
    "* 이미 천사백만개 모수가 train 되어있는 vgg model 의 출력층과 함께 vgg model의 일부 층을 다시 학습한다.\n",
    "* 위에서 과대적합 개선과 성능 개선에 효과가 있었던 자료증대도 함께 사용한다.        "
   ]
  },
  {
   "cell_type": "markdown",
   "metadata": {},
   "source": [
    "load vgg weight"
   ]
  },
  {
   "cell_type": "code",
   "execution_count": 5,
   "metadata": {},
   "outputs": [
    {
     "name": "stdout",
     "output_type": "stream",
     "text": [
      "Model: \"vgg16\"\n",
      "_________________________________________________________________\n",
      "Layer (type)                 Output Shape              Param #   \n",
      "=================================================================\n",
      "input_1 (InputLayer)         [(None, 150, 150, 3)]     0         \n",
      "_________________________________________________________________\n",
      "block1_conv1 (Conv2D)        (None, 150, 150, 64)      1792      \n",
      "_________________________________________________________________\n",
      "block1_conv2 (Conv2D)        (None, 150, 150, 64)      36928     \n",
      "_________________________________________________________________\n",
      "block1_pool (MaxPooling2D)   (None, 75, 75, 64)        0         \n",
      "_________________________________________________________________\n",
      "block2_conv1 (Conv2D)        (None, 75, 75, 128)       73856     \n",
      "_________________________________________________________________\n",
      "block2_conv2 (Conv2D)        (None, 75, 75, 128)       147584    \n",
      "_________________________________________________________________\n",
      "block2_pool (MaxPooling2D)   (None, 37, 37, 128)       0         \n",
      "_________________________________________________________________\n",
      "block3_conv1 (Conv2D)        (None, 37, 37, 256)       295168    \n",
      "_________________________________________________________________\n",
      "block3_conv2 (Conv2D)        (None, 37, 37, 256)       590080    \n",
      "_________________________________________________________________\n",
      "block3_conv3 (Conv2D)        (None, 37, 37, 256)       590080    \n",
      "_________________________________________________________________\n",
      "block3_pool (MaxPooling2D)   (None, 18, 18, 256)       0         \n",
      "_________________________________________________________________\n",
      "block4_conv1 (Conv2D)        (None, 18, 18, 512)       1180160   \n",
      "_________________________________________________________________\n",
      "block4_conv2 (Conv2D)        (None, 18, 18, 512)       2359808   \n",
      "_________________________________________________________________\n",
      "block4_conv3 (Conv2D)        (None, 18, 18, 512)       2359808   \n",
      "_________________________________________________________________\n",
      "block4_pool (MaxPooling2D)   (None, 9, 9, 512)         0         \n",
      "_________________________________________________________________\n",
      "block5_conv1 (Conv2D)        (None, 9, 9, 512)         2359808   \n",
      "_________________________________________________________________\n",
      "block5_conv2 (Conv2D)        (None, 9, 9, 512)         2359808   \n",
      "_________________________________________________________________\n",
      "block5_conv3 (Conv2D)        (None, 9, 9, 512)         2359808   \n",
      "_________________________________________________________________\n",
      "block5_pool (MaxPooling2D)   (None, 4, 4, 512)         0         \n",
      "=================================================================\n",
      "Total params: 14,714,688\n",
      "Trainable params: 14,714,688\n",
      "Non-trainable params: 0\n",
      "_________________________________________________________________\n"
     ]
    }
   ],
   "source": [
    "from tensorflow.keras.applications import VGG16\n",
    "vgg_base=VGG16(weights='imagenet',include_top=False, input_shape=(150,150,3))\n",
    "vgg_base.summary()"
   ]
  },
  {
   "cell_type": "markdown",
   "metadata": {},
   "source": [
    "data"
   ]
  },
  {
   "cell_type": "code",
   "execution_count": 6,
   "metadata": {},
   "outputs": [],
   "source": [
    "import os\n",
    "from tensorflow.keras.preprocessing.image import ImageDataGenerator\n",
    "\n",
    "#경로 지정\n",
    "base_dir='D:/deepdata/dogs and cats_small'\n",
    "train_dir=os.path.join(base_dir,'train')\n",
    "validation_dir=os.path.join(base_dir,'validation')\n",
    "test_dir=os.path.join(base_dir,'test') "
   ]
  },
  {
   "cell_type": "markdown",
   "metadata": {},
   "source": [
    "model"
   ]
  },
  {
   "cell_type": "code",
   "execution_count": 39,
   "metadata": {},
   "outputs": [
    {
     "name": "stdout",
     "output_type": "stream",
     "text": [
      "Model: \"sequential_8\"\n",
      "_________________________________________________________________\n",
      "Layer (type)                 Output Shape              Param #   \n",
      "=================================================================\n",
      "vgg16 (Functional)           (None, 4, 4, 512)         14714688  \n",
      "_________________________________________________________________\n",
      "flatten_7 (Flatten)          (None, 8192)              0         \n",
      "_________________________________________________________________\n",
      "dense_14 (Dense)             (None, 256)               2097408   \n",
      "_________________________________________________________________\n",
      "dense_15 (Dense)             (None, 1)                 257       \n",
      "=================================================================\n",
      "Total params: 16,812,353\n",
      "Trainable params: 16,812,353\n",
      "Non-trainable params: 0\n",
      "_________________________________________________________________\n"
     ]
    }
   ],
   "source": [
    "from tensorflow.keras.models import Sequential\n",
    "from tensorflow.keras.layers import Flatten, Dense\n",
    "\n",
    "model_fine = Sequential()\n",
    "model_fine.add(vgg_base) #vgg 모델\n",
    "model_fine.add(Flatten())\n",
    "model_fine.add(Dense(256,activation='relu'))\n",
    "model_fine.add(Dense(1,activation='sigmoid'))\n",
    "model_fine.summary()"
   ]
  },
  {
   "cell_type": "code",
   "execution_count": 40,
   "metadata": {},
   "outputs": [],
   "source": [
    "vgg_base.trainable=True #True로 풀어줌.\n",
    "trainable_layer=False #변수\n",
    "\n",
    "for layer in vgg_base.layers: #vgg의 ayer하나하나를 읽음\n",
    "    if layer.name=='block5_conv1': # block5_conv1부터 trainable_layer가 True로 layer.trainable이 True로 바뀜\n",
    "        trainable_layer=True \n",
    "        #False를 True로 바꿈. 한번 True로 걸리면 그 뒤에 층들은 다 trainable=True임\n",
    "    if trainable_layer:\n",
    "        layer.trainable=True\n",
    "    else:\n",
    "        layer.trainable=False"
   ]
  },
  {
   "cell_type": "markdown",
   "metadata": {},
   "source": [
    "Image Data Generator"
   ]
  },
  {
   "cell_type": "code",
   "execution_count": 7,
   "metadata": {},
   "outputs": [
    {
     "name": "stdout",
     "output_type": "stream",
     "text": [
      "Found 2000 images belonging to 2 classes.\n",
      "Found 1000 images belonging to 2 classes.\n"
     ]
    }
   ],
   "source": [
    "from tensorflow.keras.preprocessing.image import ImageDataGenerator\n",
    "from tensorflow.keras import optimizers\n",
    "\n",
    "train_datagen=ImageDataGenerator(rescale=1./255,rotation_range=40, width_shift_range=0.2,\n",
    "                               height_shift_range=0.2, shear_range=0.2, zoom_range=0.2,\n",
    "                                horizontal_flip=True, fill_mode='nearest')\n",
    "validation_datagen=ImageDataGenerator(rescale=1./255) #검증데이터는 자료증대를 하지 않아야 함.\n",
    "\n",
    "train_generator=train_datagen.flow_from_directory(train_dir,target_size=(150,150),\n",
    "                                              batch_size=32, class_mode='binary')\n",
    "validation_generator=validation_datagen.flow_from_directory(validation_dir,target_size=(150,150),\n",
    "                                              batch_size=32, class_mode='binary')"
   ]
  },
  {
   "cell_type": "markdown",
   "metadata": {},
   "source": [
    "compile, fit"
   ]
  },
  {
   "cell_type": "code",
   "execution_count": 42,
   "metadata": {},
   "outputs": [
    {
     "name": "stdout",
     "output_type": "stream",
     "text": [
      "Epoch 1/40\n",
      "62/62 [==============================] - 482s 8s/step - loss: 0.5703 - acc: 0.7089 - val_loss: 0.2797 - val_acc: 0.8810\n",
      "Epoch 2/40\n",
      "62/62 [==============================] - 640s 10s/step - loss: 0.3565 - acc: 0.8403 - val_loss: 0.2357 - val_acc: 0.9042\n",
      "Epoch 3/40\n",
      "62/62 [==============================] - 642s 10s/step - loss: 0.2865 - acc: 0.8866 - val_loss: 0.2396 - val_acc: 0.8962\n",
      "Epoch 4/40\n",
      "62/62 [==============================] - 415s 7s/step - loss: 0.2665 - acc: 0.8921 - val_loss: 0.2452 - val_acc: 0.8931\n",
      "Epoch 5/40\n",
      "62/62 [==============================] - 371s 6s/step - loss: 0.2587 - acc: 0.8885 - val_loss: 0.2629 - val_acc: 0.8861\n",
      "Epoch 6/40\n",
      "62/62 [==============================] - 361s 6s/step - loss: 0.2487 - acc: 0.8916 - val_loss: 0.2150 - val_acc: 0.9093\n",
      "Epoch 7/40\n",
      "62/62 [==============================] - 361s 6s/step - loss: 0.2505 - acc: 0.8990 - val_loss: 0.1702 - val_acc: 0.9234\n",
      "Epoch 8/40\n",
      "62/62 [==============================] - 365s 6s/step - loss: 0.2076 - acc: 0.9087 - val_loss: 0.1806 - val_acc: 0.9194\n",
      "Epoch 9/40\n",
      "62/62 [==============================] - 381s 6s/step - loss: 0.2172 - acc: 0.9163 - val_loss: 0.1934 - val_acc: 0.9204\n",
      "Epoch 10/40\n",
      "62/62 [==============================] - 392s 6s/step - loss: 0.1640 - acc: 0.9288 - val_loss: 0.1784 - val_acc: 0.9294\n",
      "Epoch 11/40\n",
      "62/62 [==============================] - 407s 7s/step - loss: 0.1722 - acc: 0.9240 - val_loss: 0.2381 - val_acc: 0.9093\n",
      "Epoch 12/40\n",
      "62/62 [==============================] - 485s 8s/step - loss: 0.1748 - acc: 0.9250 - val_loss: 0.1980 - val_acc: 0.9173\n",
      "Epoch 13/40\n",
      "62/62 [==============================] - 613s 10s/step - loss: 0.1404 - acc: 0.9445 - val_loss: 0.1733 - val_acc: 0.9335\n",
      "Epoch 14/40\n",
      "62/62 [==============================] - 489s 8s/step - loss: 0.1358 - acc: 0.9428 - val_loss: 0.2632 - val_acc: 0.9093\n",
      "Epoch 15/40\n",
      "62/62 [==============================] - 363s 6s/step - loss: 0.1321 - acc: 0.9496 - val_loss: 0.1771 - val_acc: 0.9224\n",
      "Epoch 16/40\n",
      "62/62 [==============================] - 363s 6s/step - loss: 0.1340 - acc: 0.9420 - val_loss: 0.1662 - val_acc: 0.9325\n",
      "Epoch 17/40\n",
      "62/62 [==============================] - 364s 6s/step - loss: 0.1335 - acc: 0.9460 - val_loss: 0.1776 - val_acc: 0.9315\n",
      "Epoch 18/40\n",
      "62/62 [==============================] - 364s 6s/step - loss: 0.1225 - acc: 0.9469 - val_loss: 0.1905 - val_acc: 0.9194\n",
      "Epoch 19/40\n",
      "62/62 [==============================] - 367s 6s/step - loss: 0.1124 - acc: 0.9511 - val_loss: 0.1523 - val_acc: 0.9335\n",
      "Epoch 20/40\n",
      "62/62 [==============================] - 368s 6s/step - loss: 0.1075 - acc: 0.9599 - val_loss: 0.1927 - val_acc: 0.9315\n",
      "Epoch 21/40\n",
      "62/62 [==============================] - 372s 6s/step - loss: 0.0869 - acc: 0.9664 - val_loss: 0.1670 - val_acc: 0.9355\n",
      "Epoch 22/40\n",
      "62/62 [==============================] - 368s 6s/step - loss: 0.0819 - acc: 0.9660 - val_loss: 0.1459 - val_acc: 0.9425\n",
      "Epoch 23/40\n",
      "62/62 [==============================] - 360s 6s/step - loss: 0.1037 - acc: 0.9655 - val_loss: 0.1635 - val_acc: 0.9355\n",
      "Epoch 24/40\n",
      "62/62 [==============================] - 365s 6s/step - loss: 0.1026 - acc: 0.9612 - val_loss: 0.1814 - val_acc: 0.9345\n"
     ]
    }
   ],
   "source": [
    "from tensorflow.keras import optimizers\n",
    "from tensorflow.keras.callbacks import EarlyStopping,ModelCheckpoint\n",
    "\n",
    "callback_list = [EarlyStopping(monitor='acc',patience=3)]\n",
    "\n",
    "model_fine.compile(optimizer=optimizers.RMSprop(lr=2e-5),loss='binary_crossentropy',metrics=['acc'])\n",
    "model_fine_result=model_fine.fit_generator(\n",
    "    train_generator,steps_per_epoch=62, epochs=40, \n",
    "    validation_data=validation_generator,validation_steps=31,callbacks=callback_list)"
   ]
  },
  {
   "cell_type": "markdown",
   "metadata": {},
   "source": [
    "graph"
   ]
  },
  {
   "cell_type": "code",
   "execution_count": 43,
   "metadata": {},
   "outputs": [
    {
     "data": {
      "image/png": "[encoded data removed]",
      "text/plain": [
       "<Figure size 432x288 with 1 Axes>"
      ]
     },
     "metadata": {
      "needs_background": "light"
     },
     "output_type": "display_data"
    },
    {
     "data": {
      "image/png": "[encoded data removed]",
      "text/plain": [
       "<Figure size 432x288 with 1 Axes>"
      ]
     },
     "metadata": {
      "needs_background": "light"
     },
     "output_type": "display_data"
    }
   ],
   "source": [
    "import matplotlib.pyplot as plt\n",
    "acc=model_fine_result.history['acc']\n",
    "val_acc=model_fine_result.history['val_acc']\n",
    "loss=model_fine_result.history['loss']\n",
    "val_loss=model_fine_result.history['val_loss']\n",
    "epochs=range(1,len(acc)+1)\n",
    "plt.plot(epochs,acc,'b',label='training acc')\n",
    "plt.plot(epochs,val_acc,'bo',label='validation acc')\n",
    "plt.title('training and validation accuracy')\n",
    "plt.legend()\n",
    "plt.figure()\n",
    "plt.plot(epochs,loss,'b',label='training loss')\n",
    "plt.plot(epochs,val_loss,'bo',label='validation loss')\n",
    "plt.title('training and validation loss')\n",
    "plt.legend()\n",
    "plt.show()"
   ]
  },
  {
   "cell_type": "markdown",
   "metadata": {},
   "source": [
    "evaluate"
   ]
  },
  {
   "cell_type": "code",
   "execution_count": 44,
   "metadata": {},
   "outputs": [
    {
     "name": "stdout",
     "output_type": "stream",
     "text": [
      "Found 1000 images belonging to 2 classes.\n",
      "0.22150923311710358\n",
      "0.9409999847412109\n"
     ]
    }
   ],
   "source": [
    "test_datagen=ImageDataGenerator(rescale=1./255)\n",
    "test_generator=test_datagen.flow_from_directory(test_dir,target_size=(150,150),\n",
    "                                              batch_size=20, class_mode='binary')\n",
    "loss, acc=model_fine.evaluate(test_generator,steps=50)\n",
    "print(loss)\n",
    "print(acc)"
   ]
  },
  {
   "cell_type": "markdown",
   "metadata": {},
   "source": [
    "### 5) Fine Tuning + Image Augmentation + 모수 초기치 부여, 규제화 적용, batchnormalization, dropout 의 기법"
   ]
  },
  {
   "cell_type": "markdown",
   "metadata": {},
   "source": [
    "model"
   ]
  },
  {
   "cell_type": "code",
   "execution_count": 10,
   "metadata": {},
   "outputs": [
    {
     "name": "stdout",
     "output_type": "stream",
     "text": [
      "Model: \"sequential_3\"\n",
      "_________________________________________________________________\n",
      "Layer (type)                 Output Shape              Param #   \n",
      "=================================================================\n",
      "vgg16 (Functional)           (None, 4, 4, 512)         14714688  \n",
      "_________________________________________________________________\n",
      "flatten_2 (Flatten)          (None, 8192)              0         \n",
      "_________________________________________________________________\n",
      "dense_2 (Dense)              (None, 256)               2097408   \n",
      "_________________________________________________________________\n",
      "batch_normalization_1 (Batch (None, 256)               1024      \n",
      "_________________________________________________________________\n",
      "dropout (Dropout)            (None, 256)               0         \n",
      "_________________________________________________________________\n",
      "dense_3 (Dense)              (None, 1)                 257       \n",
      "=================================================================\n",
      "Total params: 16,813,377\n",
      "Trainable params: 16,812,865\n",
      "Non-trainable params: 512\n",
      "_________________________________________________________________\n"
     ]
    }
   ],
   "source": [
    "from tensorflow.keras.models import Sequential\n",
    "from tensorflow.keras.layers import Flatten, Dense, BatchNormalization,Dropout\n",
    "\n",
    "model_fine2 = Sequential()\n",
    "model_fine2.add(vgg_base) #vgg 모델\n",
    "model_fine2.add(Flatten())\n",
    "model_fine2.add(Dense(256,activation='relu',kernel_initializer='he_normal')) #he initializer\n",
    "model_fine2.add(BatchNormalization(momentum=0.9)) #batchnorm\n",
    "model_fine2.add(Dropout(0.5)) #dropout\n",
    "model_fine2.add(Dense(1,activation='sigmoid',kernel_regularizer='l1')) #L1 norm\n",
    "model_fine2.summary()"
   ]
  },
  {
   "cell_type": "code",
   "execution_count": 11,
   "metadata": {},
   "outputs": [],
   "source": [
    "vgg_base.trainable=True #True로 풀어줌.\n",
    "trainable_layer=False #변수\n",
    "\n",
    "for layer in vgg_base.layers: #vgg의 ayer하나하나를 읽음\n",
    "    if layer.name=='block5_conv1': # block5_conv1부터 trainable_layer가 True로 layer.trainable이 True로 바뀜\n",
    "        trainable_layer=True \n",
    "        #False를 True로 바꿈. 한번 True로 걸리면 그 뒤에 층들은 다 trainable=True임\n",
    "    if trainable_layer:\n",
    "        layer.trainable=True\n",
    "    else:\n",
    "        layer.trainable=False"
   ]
  },
  {
   "cell_type": "markdown",
   "metadata": {},
   "source": [
    "compile, fit"
   ]
  },
  {
   "cell_type": "code",
   "execution_count": null,
   "metadata": {
    "scrolled": false
   },
   "outputs": [
    {
     "name": "stderr",
     "output_type": "stream",
     "text": [
      "D:\\anaconda3\\lib\\site-packages\\tensorflow\\python\\keras\\engine\\training.py:1844: UserWarning: `Model.fit_generator` is deprecated and will be removed in a future version. Please use `Model.fit`, which supports generators.\n",
      "  warnings.warn('`Model.fit_generator` is deprecated and '\n"
     ]
    },
    {
     "name": "stdout",
     "output_type": "stream",
     "text": [
      "Epoch 1/40\n",
      "62/62 [==============================] - 448s 7s/step - loss: 0.9624 - acc: 0.6230 - val_loss: 0.5261 - val_acc: 0.8569\n",
      "Epoch 2/40\n",
      "62/62 [==============================] - 460s 7s/step - loss: 0.7363 - acc: 0.7555 - val_loss: 0.4627 - val_acc: 0.8831\n",
      "Epoch 3/40\n",
      "62/62 [==============================] - 621s 10s/step - loss: 0.6070 - acc: 0.8311 - val_loss: 0.4292 - val_acc: 0.9073\n",
      "Epoch 4/40\n",
      "62/62 [==============================] - 381s 6s/step - loss: 0.5922 - acc: 0.8434 - val_loss: 0.4084 - val_acc: 0.9214\n",
      "Epoch 5/40\n",
      "62/62 [==============================] - 373s 6s/step - loss: 0.5411 - acc: 0.8626 - val_loss: 0.4074 - val_acc: 0.9113\n",
      "Epoch 6/40\n",
      "62/62 [==============================] - 380s 6s/step - loss: 0.5210 - acc: 0.8630 - val_loss: 0.4034 - val_acc: 0.9133\n",
      "Epoch 7/40\n",
      "62/62 [==============================] - 524s 9s/step - loss: 0.4901 - acc: 0.8739 - val_loss: 0.3871 - val_acc: 0.9244\n",
      "Epoch 8/40\n",
      "62/62 [==============================] - 719s 12s/step - loss: 0.4808 - acc: 0.8803 - val_loss: 0.3856 - val_acc: 0.9274\n",
      "Epoch 9/40\n",
      "62/62 [==============================] - 710s 11s/step - loss: 0.4850 - acc: 0.8867 - val_loss: 0.3865 - val_acc: 0.9264\n",
      "Epoch 10/40\n",
      "62/62 [==============================] - 744s 12s/step - loss: 0.4418 - acc: 0.8984 - val_loss: 0.3741 - val_acc: 0.9345\n",
      "Epoch 11/40\n",
      "62/62 [==============================] - 732s 12s/step - loss: 0.4385 - acc: 0.9016 - val_loss: 0.3813 - val_acc: 0.9244\n",
      "Epoch 12/40\n",
      "62/62 [==============================] - 715s 12s/step - loss: 0.4416 - acc: 0.9007 - val_loss: 0.3891 - val_acc: 0.9214\n",
      "Epoch 13/40\n",
      "62/62 [==============================] - 736s 12s/step - loss: 0.4200 - acc: 0.9113 - val_loss: 0.4453 - val_acc: 0.9052\n",
      "Epoch 14/40\n",
      "62/62 [==============================] - 746s 12s/step - loss: 0.4051 - acc: 0.9169 - val_loss: 0.3666 - val_acc: 0.9234\n",
      "Epoch 15/40\n",
      "62/62 [==============================] - 769s 12s/step - loss: 0.3746 - acc: 0.9399 - val_loss: 0.3672 - val_acc: 0.9284\n",
      "Epoch 16/40\n",
      "62/62 [==============================] - 418s 7s/step - loss: 0.4032 - acc: 0.9159 - val_loss: 0.3780 - val_acc: 0.9194\n",
      "Epoch 17/40\n",
      "62/62 [==============================] - 440s 7s/step - loss: 0.3595 - acc: 0.9343 - val_loss: 0.3877 - val_acc: 0.9294\n",
      "Epoch 18/40\n",
      "51/62 [=======================>......] - ETA: 54s - loss: 0.3622 - acc: 0.9248"
     ]
    }
   ],
   "source": [
    "from tensorflow.keras import optimizers\n",
    "from tensorflow.keras.callbacks import EarlyStopping,ModelCheckpoint\n",
    "\n",
    "callback_list = [EarlyStopping(monitor='acc',patience=3)]\n",
    "\n",
    "model_fine2.compile(optimizer=optimizers.RMSprop(lr=2e-5),loss='binary_crossentropy',metrics=['acc'])\n",
    "model_fine_result2 = model_fine2.fit_generator(\n",
    "                                train_generator,steps_per_epoch=62, epochs=40, \n",
    "                                validation_data=validation_generator,validation_steps=31,callbacks=callback_list)"
   ]
  },
  {
   "cell_type": "markdown",
   "metadata": {},
   "source": [
    "graph"
   ]
  },
  {
   "cell_type": "code",
   "execution_count": null,
   "metadata": {},
   "outputs": [],
   "source": [
    "import matplotlib.pyplot as plt\n",
    "acc=model_fine_result2.history['acc']\n",
    "val_acc=model_fine_result2.history['val_acc']\n",
    "loss=model_fine_result2.history['loss']\n",
    "val_loss=model_fine_result2.history['val_loss']\n",
    "epochs=range(1,len(acc)+1)\n",
    "plt.plot(epochs,acc,'b',label='training acc')\n",
    "plt.plot(epochs,val_acc,'bo',label='validation acc')\n",
    "plt.title('training and validation accuracy')\n",
    "plt.legend()\n",
    "plt.figure()\n",
    "plt.plot(epochs,loss,'b',label='training loss')\n",
    "plt.plot(epochs,val_loss,'bo',label='validation loss')\n",
    "plt.title('training and validation loss')\n",
    "plt.legend()\n",
    "plt.show()"
   ]
  },
  {
   "cell_type": "markdown",
   "metadata": {},
   "source": [
    "evaluate"
   ]
  },
  {
   "cell_type": "code",
   "execution_count": null,
   "metadata": {},
   "outputs": [],
   "source": [
    "test_datagen=ImageDataGenerator(rescale=1./255)\n",
    "test_generator=test_datagen.flow_from_directory(test_dir,target_size=(150,150),\n",
    "                                              batch_size=20, class_mode='binary')\n",
    "loss, acc=model_fine2.evaluate(test_generator,steps=50)\n",
    "print(loss)\n",
    "print(acc)"
   ]
  },
  {
   "cell_type": "code",
   "execution_count": null,
   "metadata": {},
   "outputs": [],
   "source": []
  }
 ],
 "metadata": {
  "kernelspec": {
   "display_name": "Python 3",
   "language": "python",
   "name": "python3"
  },
  "language_info": {
   "codemirror_mode": {
    "name": "ipython",
    "version": 3
   },
   "file_extension": ".py",
   "mimetype": "text/x-python",
   "name": "python",
   "nbconvert_exporter": "python",
   "pygments_lexer": "ipython3",
   "version": "3.8.3"
  }
 },
 "nbformat": 4,
 "nbformat_minor": 4
}
